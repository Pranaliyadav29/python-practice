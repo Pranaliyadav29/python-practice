{
 "cells": [
  {
   "cell_type": "raw",
   "id": "80978627",
   "metadata": {},
   "source": [
    "1.What are the two values of the Boolean data type? How do you write them?\n",
    "Ans:\n",
    "   1.True(T)\n",
    "   2.False(F)"
   ]
  },
  {
   "cell_type": "code",
   "execution_count": 1,
   "id": "90c411d6",
   "metadata": {},
   "outputs": [
    {
     "name": "stdout",
     "output_type": "stream",
     "text": [
      "True\n",
      "False\n"
     ]
    }
   ],
   "source": [
    "a = True\n",
    "b = False\n",
    "print(a)\n",
    "print(b)\n",
    " "
   ]
  },
  {
   "cell_type": "raw",
   "id": "df6b32a2",
   "metadata": {},
   "source": [
    "2. What are the three different types of Boolean operators?\n",
    "Ans:\n",
    "    and,or and not"
   ]
  },
  {
   "cell_type": "raw",
   "id": "6c411cf5",
   "metadata": {},
   "source": [
    "3. Make a list of each Boolean operator's truth tables (i.e. every possible combination of Boolean values for the operator and what it evaluate ).\n",
    "Ans:\n",
    "   "
   ]
  },
  {
   "cell_type": "code",
   "execution_count": 10,
   "id": "859570b5",
   "metadata": {},
   "outputs": [
    {
     "data": {
      "text/plain": [
       "False"
      ]
     },
     "execution_count": 10,
     "metadata": {},
     "output_type": "execute_result"
    }
   ],
   "source": [
    "a = True\n",
    "b = False\n",
    "a and b #When both are true then output is true"
   ]
  },
  {
   "cell_type": "code",
   "execution_count": 12,
   "id": "56b2ab12",
   "metadata": {},
   "outputs": [
    {
     "data": {
      "text/plain": [
       "True"
      ]
     },
     "execution_count": 12,
     "metadata": {},
     "output_type": "execute_result"
    }
   ],
   "source": [
    "a or b #When both are false then output is false"
   ]
  },
  {
   "cell_type": "code",
   "execution_count": 14,
   "id": "b6b7cd51",
   "metadata": {},
   "outputs": [
    {
     "data": {
      "text/plain": [
       "False"
      ]
     },
     "execution_count": 14,
     "metadata": {},
     "output_type": "execute_result"
    }
   ],
   "source": [
    "not a #negative value"
   ]
  },
  {
   "cell_type": "code",
   "execution_count": 19,
   "id": "926f6dc2",
   "metadata": {},
   "outputs": [
    {
     "data": {
      "text/plain": [
       "0"
      ]
     },
     "execution_count": 19,
     "metadata": {},
     "output_type": "execute_result"
    }
   ],
   "source": [
    "#truth table for and\n",
    "a=0\n",
    "b=0\n",
    "a and b"
   ]
  },
  {
   "cell_type": "code",
   "execution_count": 20,
   "id": "6af3c2b0",
   "metadata": {},
   "outputs": [
    {
     "data": {
      "text/plain": [
       "0"
      ]
     },
     "execution_count": 20,
     "metadata": {},
     "output_type": "execute_result"
    }
   ],
   "source": [
    "a=0\n",
    "b=1\n",
    "a and b"
   ]
  },
  {
   "cell_type": "code",
   "execution_count": 21,
   "id": "284fb614",
   "metadata": {},
   "outputs": [
    {
     "data": {
      "text/plain": [
       "0"
      ]
     },
     "execution_count": 21,
     "metadata": {},
     "output_type": "execute_result"
    }
   ],
   "source": [
    "a=1\n",
    "b=0\n",
    "a and b"
   ]
  },
  {
   "cell_type": "code",
   "execution_count": 22,
   "id": "a33718de",
   "metadata": {},
   "outputs": [
    {
     "data": {
      "text/plain": [
       "1"
      ]
     },
     "execution_count": 22,
     "metadata": {},
     "output_type": "execute_result"
    }
   ],
   "source": [
    "\n",
    "a=1\n",
    "b=1\n",
    "a and b"
   ]
  },
  {
   "cell_type": "code",
   "execution_count": 25,
   "id": "ab1ddac7",
   "metadata": {},
   "outputs": [
    {
     "data": {
      "text/plain": [
       "0"
      ]
     },
     "execution_count": 25,
     "metadata": {},
     "output_type": "execute_result"
    }
   ],
   "source": [
    "#truth table for or\n",
    "a = 0\n",
    "b = 0\n",
    "a or b"
   ]
  },
  {
   "cell_type": "code",
   "execution_count": 26,
   "id": "c5e9c3a6",
   "metadata": {},
   "outputs": [
    {
     "data": {
      "text/plain": [
       "1"
      ]
     },
     "execution_count": 26,
     "metadata": {},
     "output_type": "execute_result"
    }
   ],
   "source": [
    "a=1\n",
    "b=0\n",
    "a or b"
   ]
  },
  {
   "cell_type": "code",
   "execution_count": 27,
   "id": "40dbad89",
   "metadata": {},
   "outputs": [
    {
     "data": {
      "text/plain": [
       "1"
      ]
     },
     "execution_count": 27,
     "metadata": {},
     "output_type": "execute_result"
    }
   ],
   "source": [
    "a = 0\n",
    "b = 1\n",
    "a or b"
   ]
  },
  {
   "cell_type": "code",
   "execution_count": 28,
   "id": "e305e76f",
   "metadata": {},
   "outputs": [
    {
     "data": {
      "text/plain": [
       "1"
      ]
     },
     "execution_count": 28,
     "metadata": {},
     "output_type": "execute_result"
    }
   ],
   "source": [
    "a = 1\n",
    "b = 1\n",
    "a or b"
   ]
  },
  {
   "cell_type": "code",
   "execution_count": 32,
   "id": "c08b6802",
   "metadata": {},
   "outputs": [
    {
     "data": {
      "text/plain": [
       "False"
      ]
     },
     "execution_count": 32,
     "metadata": {},
     "output_type": "execute_result"
    }
   ],
   "source": [
    "#Truth Table for not\n",
    "a = 1\n",
    "b = 0\n",
    "not a\n"
   ]
  },
  {
   "cell_type": "code",
   "execution_count": 33,
   "id": "9fcadce2",
   "metadata": {},
   "outputs": [
    {
     "data": {
      "text/plain": [
       "True"
      ]
     },
     "execution_count": 33,
     "metadata": {},
     "output_type": "execute_result"
    }
   ],
   "source": [
    "not b"
   ]
  },
  {
   "cell_type": "code",
   "execution_count": 40,
   "id": "d4b4e3bf",
   "metadata": {},
   "outputs": [
    {
     "name": "stdout",
     "output_type": "stream",
     "text": [
      "False\n",
      "False\n",
      "True\n",
      "False\n",
      "False\n",
      "True\n"
     ]
    }
   ],
   "source": [
    "#4. What are the values of the following expressions?\n",
    "print((5>4) and (3==5))\n",
    "print(not(5>4))\n",
    "print((5>4) or (3==5))\n",
    "print(not(5>4) or (3==5))\n",
    "print((True and True) and (True == False))\n",
    "print((not(False)) or (not(True)))\n"
   ]
  },
  {
   "cell_type": "raw",
   "id": "3b57d889",
   "metadata": {},
   "source": [
    "6. How do you tell the difference between the equal to and assignment operators?Describe a condition and when you would use one\n",
    "ans:\n",
    "    ==equal to operator that compares two values and evalutes to a Boolean,while= is the \n",
    "    assignement operator that stores a value in a variable."
   ]
  },
  {
   "cell_type": "code",
   "execution_count": 50,
   "id": "bb907c82",
   "metadata": {},
   "outputs": [
    {
     "name": "stdout",
     "output_type": "stream",
     "text": [
      "False\n"
     ]
    }
   ],
   "source": [
    "#e.g\n",
    "if(1==2):\n",
    "    print(\"True\")\n",
    "else:\n",
    "    print(\"False\")\n",
    "    \n",
    "   "
   ]
  },
  {
   "cell_type": "code",
   "execution_count": 52,
   "id": "6a107cbf",
   "metadata": {},
   "outputs": [
    {
     "name": "stdout",
     "output_type": "stream",
     "text": [
      "c = 1\n"
     ]
    }
   ],
   "source": [
    "#Assignment operator\n",
    "c= 1\n",
    "print(\"c =\",c)"
   ]
  },
  {
   "cell_type": "code",
   "execution_count": 55,
   "id": "85ef634a",
   "metadata": {},
   "outputs": [
    {
     "name": "stdout",
     "output_type": "stream",
     "text": [
      "ham\n",
      "spam\n",
      "spam\n"
     ]
    }
   ],
   "source": [
    "#7. Identify the three blocks in this code:\n",
    "spam = 0\n",
    "if spam == 10:\n",
    "    print('eggs') #block1\n",
    "if spam > 5:\n",
    "    print('bacon')#block 2\n",
    "else:\n",
    "      print('ham')#block3\n",
    "      print('spam')\n",
    "      print('spam')\n"
   ]
  },
  {
   "cell_type": "raw",
   "id": "774c0042",
   "metadata": {},
   "source": [
    "8. Write code that prints Hello if 1 is stored in spam, prints Howdy if 2 is stored in spam, and prints Greetings! if anything else is stored in spam."
   ]
  },
  {
   "cell_type": "code",
   "execution_count": 56,
   "id": "108e30ee",
   "metadata": {},
   "outputs": [
    {
     "name": "stdout",
     "output_type": "stream",
     "text": [
      "input a no.2\n",
      "Howdy\n"
     ]
    }
   ],
   "source": [
    "spam = int(input(\"input a no.\"))\n",
    "if spam == 1:\n",
    "    print(\"Hello\")\n",
    "elif spam ==2:\n",
    "    print(\"Howdy\")\n",
    "else:\n",
    "    print(\"Greetings\")"
   ]
  },
  {
   "cell_type": "raw",
   "id": "e38abd5b",
   "metadata": {},
   "source": [
    "9.If your programme is stuck in an endless loop, what keys you’ll press?\n",
    "Ans:\n",
    "    CTRL+c\n",
    "   "
   ]
  },
  {
   "cell_type": "raw",
   "id": "6234d266",
   "metadata": {},
   "source": [
    "10. How can you tell the difference between break and continue?\n",
    "Ans:\n",
    "    The main difference between both the statements is that when break keywkord comes,it terminals the execution of the current loop and passes the control over the next loop or main body,whereas when continue keyword is encountered,it skips the current iteratiion and excutes the very next iteration in the loop.\n",
    "    in simple words break statements leaves a loop,whereas the continue statements jumps to the next iteration.\n",
    "    "
   ]
  },
  {
   "cell_type": "raw",
   "id": "56e252ef",
   "metadata": {},
   "source": [
    "11. In a for loop, what is the difference between range(10), range(0, 10), and range(0, 10, 1)?\n",
    "Ans:\n",
    "     from the below output we can conclude that they all do the same thing.The range(10)calls ranges from 0 up to (but not including)10,\n",
    "     Range(0,10) tells the loop to atart at 0 ,a and range(0,10,1) tells the loop to increases the variable by 1 on each iteration."
   ]
  },
  {
   "cell_type": "code",
   "execution_count": 3,
   "id": "efd3a46e",
   "metadata": {
    "scrolled": true
   },
   "outputs": [
    {
     "name": "stdout",
     "output_type": "stream",
     "text": [
      "0\n",
      "1\n",
      "2\n",
      "3\n",
      "4\n",
      "5\n",
      "6\n",
      "7\n",
      "8\n",
      "9\n"
     ]
    }
   ],
   "source": [
    "for num in range(10):\n",
    "    print(num)"
   ]
  },
  {
   "cell_type": "code",
   "execution_count": 6,
   "id": "594a1eeb",
   "metadata": {},
   "outputs": [
    {
     "name": "stdout",
     "output_type": "stream",
     "text": [
      "0\n",
      "1\n",
      "2\n",
      "3\n",
      "4\n",
      "5\n",
      "6\n",
      "7\n",
      "8\n",
      "9\n"
     ]
    }
   ],
   "source": [
    "for num in range(0,10):\n",
    "    print(num)"
   ]
  },
  {
   "cell_type": "code",
   "execution_count": 5,
   "id": "56901b99",
   "metadata": {},
   "outputs": [
    {
     "name": "stdout",
     "output_type": "stream",
     "text": [
      "0\n",
      "1\n",
      "2\n",
      "3\n",
      "4\n",
      "5\n",
      "6\n",
      "7\n",
      "8\n",
      "9\n"
     ]
    }
   ],
   "source": [
    "for num in range(0,10,1):\n",
    "    print(num)"
   ]
  },
  {
   "cell_type": "code",
   "execution_count": 20,
   "id": "074b34da",
   "metadata": {},
   "outputs": [
    {
     "name": "stdout",
     "output_type": "stream",
     "text": [
      "1\n",
      "2\n",
      "3\n",
      "4\n",
      "5\n",
      "6\n",
      "7\n",
      "8\n",
      "9\n",
      "10\n"
     ]
    }
   ],
   "source": [
    "#12. Write a short program that prints the numbers 1 to 10 using a for loop. Then write an equivalent program that prints the numbers 1 to 10 using a while loo\n",
    "#using of while loop\n",
    "i = 1\n",
    "while i<=10:\n",
    "        print(i)\n",
    "        i +=1"
   ]
  },
  {
   "cell_type": "code",
   "execution_count": 21,
   "id": "1f52c2e9",
   "metadata": {},
   "outputs": [
    {
     "name": "stdout",
     "output_type": "stream",
     "text": [
      "1\n",
      "2\n",
      "3\n",
      "4\n",
      "5\n",
      "6\n",
      "7\n",
      "8\n",
      "9\n",
      "10\n"
     ]
    }
   ],
   "source": [
    "for i in range(1,11):\n",
    "       print(i)"
   ]
  },
  {
   "cell_type": "raw",
   "id": "82565399",
   "metadata": {},
   "source": [
    "13. If you had a function named bacon() inside a module named spam, how would you call it after importing spam?\n",
    "Ans:\n",
    "    this function can be caleed with spam.bacon()"
   ]
  }
 ],
 "metadata": {
  "kernelspec": {
   "display_name": "Python 3 (ipykernel)",
   "language": "python",
   "name": "python3"
  },
  "language_info": {
   "codemirror_mode": {
    "name": "ipython",
    "version": 3
   },
   "file_extension": ".py",
   "mimetype": "text/x-python",
   "name": "python",
   "nbconvert_exporter": "python",
   "pygments_lexer": "ipython3",
   "version": "3.9.13"
  }
 },
 "nbformat": 4,
 "nbformat_minor": 5
}
