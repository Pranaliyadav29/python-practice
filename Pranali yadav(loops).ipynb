{
 "cells": [
  {
   "cell_type": "markdown",
   "id": "dbef294d",
   "metadata": {},
   "source": [
    "# For loop by using define function\n"
   ]
  },
  {
   "cell_type": "code",
   "execution_count": 1,
   "id": "9bc3e1b2",
   "metadata": {},
   "outputs": [],
   "source": [
    "a = \"data Science\""
   ]
  },
  {
   "cell_type": "code",
   "execution_count": 3,
   "id": "b10670ba",
   "metadata": {},
   "outputs": [],
   "source": [
    "b = \"Jupyter notebook\""
   ]
  },
  {
   "cell_type": "code",
   "execution_count": 4,
   "id": "01b7c953",
   "metadata": {},
   "outputs": [],
   "source": [
    "s = (\"python\")\n",
    "def items(variable_name):\n",
    "    for items in variable_name:\n",
    "        print( items, end = \"\\t\")"
   ]
  },
  {
   "cell_type": "code",
   "execution_count": 5,
   "id": "0b1112d8",
   "metadata": {},
   "outputs": [
    {
     "name": "stdout",
     "output_type": "stream",
     "text": [
      "p\ty\tt\th\to\tn\t"
     ]
    }
   ],
   "source": [
    "items(s)"
   ]
  },
  {
   "cell_type": "code",
   "execution_count": 6,
   "id": "52f00ca0",
   "metadata": {},
   "outputs": [
    {
     "name": "stdout",
     "output_type": "stream",
     "text": [
      "J\tu\tp\ty\tt\te\tr\t \tn\to\tt\te\tb\to\to\tk\t"
     ]
    }
   ],
   "source": [
    "items(b)"
   ]
  },
  {
   "cell_type": "code",
   "execution_count": 5,
   "id": "7b6fced9",
   "metadata": {},
   "outputs": [
    {
     "name": "stdout",
     "output_type": "stream",
     "text": [
      "d\ta\tt\ta\t \tS\tc\ti\te\tn\tc\te\t"
     ]
    }
   ],
   "source": [
    "items(a)"
   ]
  },
  {
   "cell_type": "code",
   "execution_count": 6,
   "id": "f6d0181b",
   "metadata": {},
   "outputs": [],
   "source": [
    "def break_word(variable_name):\n",
    "     for i in variable_name:\n",
    "        print(i)\n",
    "        if i==\"h\" or i==\"S\":\n",
    "            break"
   ]
  },
  {
   "cell_type": "code",
   "execution_count": 7,
   "id": "a6e23547",
   "metadata": {},
   "outputs": [
    {
     "name": "stdout",
     "output_type": "stream",
     "text": [
      "p\n",
      "y\n",
      "t\n",
      "h\n"
     ]
    }
   ],
   "source": [
    "break_word(s)"
   ]
  },
  {
   "cell_type": "code",
   "execution_count": 8,
   "id": "328a8c1a",
   "metadata": {
    "scrolled": true
   },
   "outputs": [
    {
     "name": "stdout",
     "output_type": "stream",
     "text": [
      "d\n",
      "a\n",
      "t\n",
      "a\n",
      " \n",
      "S\n"
     ]
    }
   ],
   "source": [
    "break_word(a)"
   ]
  },
  {
   "cell_type": "code",
   "execution_count": 9,
   "id": "687238b1",
   "metadata": {},
   "outputs": [],
   "source": [
    "x = [3,6,9,12,15,18,21,24,27,30]"
   ]
  },
  {
   "cell_type": "code",
   "execution_count": 10,
   "id": "104501fb",
   "metadata": {},
   "outputs": [],
   "source": [
    "l=[2,4,6,8,10]\n",
    "def items(variable_name):\n",
    "    for items in variable_name:\n",
    "        print(items,end = \"\\n\")"
   ]
  },
  {
   "cell_type": "code",
   "execution_count": 11,
   "id": "37475b69",
   "metadata": {},
   "outputs": [
    {
     "name": "stdout",
     "output_type": "stream",
     "text": [
      "2\n",
      "4\n",
      "6\n",
      "8\n",
      "10\n"
     ]
    }
   ],
   "source": [
    "items(l)"
   ]
  },
  {
   "cell_type": "code",
   "execution_count": 12,
   "id": "024dfe09",
   "metadata": {},
   "outputs": [
    {
     "name": "stdout",
     "output_type": "stream",
     "text": [
      "3\n",
      "6\n",
      "9\n",
      "12\n",
      "15\n",
      "18\n",
      "21\n",
      "24\n",
      "27\n",
      "30\n"
     ]
    }
   ],
   "source": [
    "items(x)"
   ]
  },
  {
   "cell_type": "markdown",
   "id": "b63129ea",
   "metadata": {},
   "source": [
    "dictonary "
   ]
  },
  {
   "cell_type": "code",
   "execution_count": 7,
   "id": "a29a932b",
   "metadata": {},
   "outputs": [],
   "source": [
    "d = {\"name\":\"abc\",\"age\":22,\"contact\":123456}"
   ]
  },
  {
   "cell_type": "code",
   "execution_count": 14,
   "id": "687a8739",
   "metadata": {},
   "outputs": [],
   "source": [
    "def keys_in_dic(variable_name):\n",
    "    for i in variable_name:\n",
    "        print (i)"
   ]
  },
  {
   "cell_type": "code",
   "execution_count": 15,
   "id": "9c7ab402",
   "metadata": {},
   "outputs": [
    {
     "name": "stdout",
     "output_type": "stream",
     "text": [
      "name\n",
      "age\n",
      "contact\n"
     ]
    }
   ],
   "source": [
    "keys_in_dic(d)"
   ]
  },
  {
   "cell_type": "code",
   "execution_count": 16,
   "id": "40cdb7db",
   "metadata": {},
   "outputs": [
    {
     "data": {
      "text/plain": [
       "123456"
      ]
     },
     "execution_count": 16,
     "metadata": {},
     "output_type": "execute_result"
    }
   ],
   "source": [
    "d['contact']"
   ]
  },
  {
   "cell_type": "code",
   "execution_count": 17,
   "id": "0d24bbdf",
   "metadata": {},
   "outputs": [],
   "source": [
    "def dictonary(variable_name):\n",
    "    for i in variable_name:\n",
    "        print(i,\" \",d[i])"
   ]
  },
  {
   "cell_type": "code",
   "execution_count": 18,
   "id": "2079dbb7",
   "metadata": {},
   "outputs": [
    {
     "name": "stdout",
     "output_type": "stream",
     "text": [
      "name   abc\n",
      "age   22\n",
      "contact   123456\n"
     ]
    }
   ],
   "source": [
    "dictonary(d)"
   ]
  },
  {
   "cell_type": "code",
   "execution_count": 19,
   "id": "2944d84e",
   "metadata": {},
   "outputs": [],
   "source": [
    "def table(start,end):\n",
    "    for i in range(start,end): #last no-1\n",
    "         print(i,\"\\t\")"
   ]
  },
  {
   "cell_type": "code",
   "execution_count": 20,
   "id": "78496375",
   "metadata": {},
   "outputs": [
    {
     "name": "stdout",
     "output_type": "stream",
     "text": [
      "1 \t\n",
      "2 \t\n",
      "3 \t\n",
      "4 \t\n",
      "5 \t\n",
      "6 \t\n",
      "7 \t\n",
      "8 \t\n",
      "9 \t\n",
      "10 \t\n"
     ]
    }
   ],
   "source": [
    "table(1,11)"
   ]
  },
  {
   "cell_type": "code",
   "execution_count": 21,
   "id": "cfe63baa",
   "metadata": {},
   "outputs": [
    {
     "name": "stdout",
     "output_type": "stream",
     "text": [
      "1 \t\n",
      "2 \t\n",
      "3 \t\n",
      "4 \t\n",
      "5 \t\n",
      "6 \t\n",
      "7 \t\n",
      "8 \t\n",
      "9 \t\n",
      "10 \t\n",
      "11 \t\n",
      "12 \t\n",
      "13 \t\n",
      "14 \t\n",
      "15 \t\n",
      "16 \t\n",
      "17 \t\n",
      "18 \t\n",
      "19 \t\n",
      "20 \t\n"
     ]
    }
   ],
   "source": [
    "table(1,21)"
   ]
  },
  {
   "cell_type": "code",
   "execution_count": 22,
   "id": "2a673273",
   "metadata": {},
   "outputs": [],
   "source": [
    "def table(start,end,step):\n",
    "    for i in range(start,end,step):\n",
    "        print(i)"
   ]
  },
  {
   "cell_type": "code",
   "execution_count": 23,
   "id": "9d2fe8fc",
   "metadata": {},
   "outputs": [
    {
     "name": "stdout",
     "output_type": "stream",
     "text": [
      "1\n",
      "3\n",
      "5\n",
      "7\n",
      "9\n"
     ]
    }
   ],
   "source": [
    "table(1,11,2)"
   ]
  },
  {
   "cell_type": "code",
   "execution_count": 24,
   "id": "259ed120",
   "metadata": {},
   "outputs": [
    {
     "name": "stdout",
     "output_type": "stream",
     "text": [
      "2\n",
      "4\n",
      "6\n",
      "8\n",
      "10\n",
      "12\n",
      "14\n",
      "16\n",
      "18\n",
      "20\n"
     ]
    }
   ],
   "source": [
    "table(2,22,2)"
   ]
  },
  {
   "cell_type": "code",
   "execution_count": 25,
   "id": "d61067f3",
   "metadata": {},
   "outputs": [],
   "source": [
    "s = \"Python is easy\"\n",
    "def sentence(variable_name):\n",
    "    for i in range(1) :\n",
    "        print(i)\n",
    "        for i in range (len(variable_name)):\n",
    "            print(i,\":\",s[i]) "
   ]
  },
  {
   "cell_type": "code",
   "execution_count": 26,
   "id": "06d50cbc",
   "metadata": {},
   "outputs": [
    {
     "name": "stdout",
     "output_type": "stream",
     "text": [
      "0\n",
      "0 : P\n",
      "1 : y\n",
      "2 : t\n",
      "3 : h\n",
      "4 : o\n",
      "5 : n\n",
      "6 :  \n",
      "7 : i\n",
      "8 : s\n",
      "9 :  \n",
      "10 : e\n",
      "11 : a\n",
      "12 : s\n",
      "13 : y\n"
     ]
    }
   ],
   "source": [
    "sentence(s)"
   ]
  },
  {
   "cell_type": "code",
   "execution_count": 27,
   "id": "1cd84119",
   "metadata": {},
   "outputs": [
    {
     "name": "stdout",
     "output_type": "stream",
     "text": [
      "ENter any no:5\n",
      "5 X 1 = 5\n",
      "5 X 2 = 10\n",
      "5 X 3 = 15\n",
      "5 X 4 = 20\n",
      "5 X 5 = 25\n",
      "5 X 6 = 30\n",
      "5 X 7 = 35\n",
      "5 X 8 = 40\n",
      "5 X 9 = 45\n",
      "5 X 10 = 50\n"
     ]
    }
   ],
   "source": [
    "n = int(input(\"ENter any no:\"))\n",
    "\n",
    "for i in range(1,11):\n",
    "    \n",
    "    print(n,\"X\",i, \"=\",n*i)"
   ]
  },
  {
   "cell_type": "code",
   "execution_count": 28,
   "id": "bb1066a4",
   "metadata": {},
   "outputs": [
    {
     "name": "stdout",
     "output_type": "stream",
     "text": [
      "ENter any no:5\n"
     ]
    }
   ],
   "source": [
    "n = int(input(\"ENter any no:\"))\n",
    "def mul(n):\n",
    "    for i in range(1,11):\n",
    "        print(n,\"X\",i, \"=\",n*i)"
   ]
  },
  {
   "cell_type": "code",
   "execution_count": 29,
   "id": "277fb8c8",
   "metadata": {},
   "outputs": [
    {
     "name": "stdout",
     "output_type": "stream",
     "text": [
      "ENter any no:5\n",
      "5 X 1 = 5\n",
      "5 X 2 = 10\n",
      "5 X 3 = 15\n",
      "5 X 4 = 20\n",
      "5 X 5 = 25\n",
      "5 X 6 = 30\n",
      "5 X 7 = 35\n",
      "5 X 8 = 40\n",
      "5 X 9 = 45\n",
      "5 X 10 = 50\n"
     ]
    }
   ],
   "source": [
    "#def mul(n):\n",
    "n = int(input(\"ENter any no:\"))\n",
    "for i in range(1,11):\n",
    "                 print(n,\"X\",i, \"=\",n*i)"
   ]
  },
  {
   "cell_type": "code",
   "execution_count": 30,
   "id": "72313a5c",
   "metadata": {},
   "outputs": [
    {
     "name": "stdout",
     "output_type": "stream",
     "text": [
      "3 X 1 = 3\n",
      "3 X 2 = 6\n",
      "3 X 3 = 9\n",
      "3 X 4 = 12\n",
      "3 X 5 = 15\n",
      "3 X 6 = 18\n",
      "3 X 7 = 21\n",
      "3 X 8 = 24\n",
      "3 X 9 = 27\n",
      "3 X 10 = 30\n"
     ]
    }
   ],
   "source": [
    "mul(3)"
   ]
  },
  {
   "cell_type": "code",
   "execution_count": 31,
   "id": "02275308",
   "metadata": {},
   "outputs": [
    {
     "name": "stdout",
     "output_type": "stream",
     "text": [
      "Enter any no:5\n",
      "5\n",
      "10\n",
      "15\n",
      "20\n",
      "25\n",
      "30\n",
      "35\n",
      "40\n",
      "45\n",
      "50\n"
     ]
    }
   ],
   "source": [
    "n = int(input(\"Enter any no:\"))\n",
    "for i in range(1,11):\n",
    "    print(n*i)"
   ]
  },
  {
   "cell_type": "code",
   "execution_count": 32,
   "id": "3a0a079c",
   "metadata": {},
   "outputs": [],
   "source": [
    "def mul(n):\n",
    "      for i in range(1,11):\n",
    "        print(n*i)"
   ]
  },
  {
   "cell_type": "code",
   "execution_count": 33,
   "id": "b9657cdf",
   "metadata": {},
   "outputs": [
    {
     "name": "stdout",
     "output_type": "stream",
     "text": [
      "1\n",
      "2\n",
      "3\n",
      "4\n",
      "5\n",
      "6\n",
      "7\n",
      "8\n",
      "9\n",
      "10\n"
     ]
    }
   ],
   "source": [
    "mul(1)"
   ]
  },
  {
   "cell_type": "code",
   "execution_count": null,
   "id": "ea58c204",
   "metadata": {},
   "outputs": [],
   "source": []
  }
 ],
 "metadata": {
  "kernelspec": {
   "display_name": "Python 3 (ipykernel)",
   "language": "python",
   "name": "python3"
  },
  "language_info": {
   "codemirror_mode": {
    "name": "ipython",
    "version": 3
   },
   "file_extension": ".py",
   "mimetype": "text/x-python",
   "name": "python",
   "nbconvert_exporter": "python",
   "pygments_lexer": "ipython3",
   "version": "3.9.13"
  }
 },
 "nbformat": 4,
 "nbformat_minor": 5
}
