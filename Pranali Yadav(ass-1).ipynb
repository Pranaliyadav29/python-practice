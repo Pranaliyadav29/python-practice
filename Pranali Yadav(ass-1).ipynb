{
 "cells": [
  {
   "cell_type": "raw",
   "id": "99c0cd74",
   "metadata": {},
   "source": [
    "1. In the below elements which of them are values or an expression? eg:- values can be integer or string and expressions will be mathematical operators.\n",
    "*-Expression \n",
    "'hello'_value\n",
    "-87.8 -value\n",
    "\n",
    "- -Expression\n",
    "/ -Expression\n",
    "+ -expression\t\n",
    "6 -value\n"
   ]
  },
  {
   "cell_type": "raw",
   "id": "0338e9ee",
   "metadata": {},
   "source": [
    "2. What is the difference between string and variable?\n",
    "String:\n",
    "Ans=\n",
    "1. A variable is store of inforamtion ,and a string is a type of information you would store in a Variable.\n",
    "2.String is  usaually words,enclosed with\"\"\n",
    "3.E.g. stringx=\"Hello\"\n",
    "       X is the variable,and we declared it as a String,use the single=to assign the text to it.\n",
    "      it means x is variable and type of value store is in string.\n",
    " "
   ]
  },
  {
   "cell_type": "raw",
   "id": "a83bc1de",
   "metadata": {},
   "source": [
    "3. Describe three different data types.\n",
    "ans:\n",
    "    Integer,float,and string\n"
   ]
  },
  {
   "cell_type": "raw",
   "id": "622605c8",
   "metadata": {},
   "source": [
    "4. What is an expression made up of? What do all expressions do?\n",
    " Ans:\n",
    "     An expression is combination of values and operators.all expression evaluted to a single value."
   ]
  },
  {
   "cell_type": "raw",
   "id": "cd6bfaf1",
   "metadata": {},
   "source": [
    "5. This assignment statements, like spam = 10. What is the difference between an expression and a statement?\n",
    "Ans: \n",
    "    An expression evaluates to a single value.\n",
    "    a statement does not."
   ]
  },
  {
   "cell_type": "raw",
   "id": "5bddd8d6",
   "metadata": {},
   "source": [
    "6. After running the following code, what does the variable bacon contain?\n",
    "bacon = 22\n",
    "bacon + 1\n",
    "Ans:\n",
    "    Bacon variable set is 22.The bacon+1 expression does not reassign the value in bacon(that would need an assignment atatement bacon=bacon+1)"
   ]
  },
  {
   "cell_type": "raw",
   "id": "e77bee10",
   "metadata": {},
   "source": [
    "7. What should the values of the following two terms be?\n",
    "'spam' + 'spamspam'\n",
    "'spam' * 3\n",
    "Ans: \n",
    "     Both expression evaluated to the string \n",
    "     'spamspamspam'\n",
    "     "
   ]
  },
  {
   "cell_type": "raw",
   "id": "4f1dbe8a",
   "metadata": {},
   "source": [
    "8. Why is eggs a valid variable name while 100 is invalid?\n",
    " ans:\n",
    "        variable names cannot begin with a number."
   ]
  },
  {
   "cell_type": "raw",
   "id": "e4d1cbdc",
   "metadata": {},
   "source": [
    "9. What three functions can be used to get the integer, floating-point number, or string version of a value?\n",
    "ans:\n",
    "    int(),float(),str() function will evaluate to the integer,foating-point number and string varsion of the value passed to them.\n",
    "    "
   ]
  },
  {
   "cell_type": "raw",
   "id": "48c25657",
   "metadata": {},
   "source": [
    "10. Why does this expression cause an error? How can you fix it?\n",
    "'I have eaten ' + 99 + ' burritos.'\n",
    "ans: \n",
    "   This expression causes an error because 99 is an integer and only strings can be conacated to other strings with the+ operator.The correct way is I have eaten+str(99)+'burritos'\n"
   ]
  },
  {
   "cell_type": "code",
   "execution_count": null,
   "id": "d79e0dce",
   "metadata": {},
   "outputs": [],
   "source": []
  }
 ],
 "metadata": {
  "kernelspec": {
   "display_name": "Python 3 (ipykernel)",
   "language": "python",
   "name": "python3"
  },
  "language_info": {
   "codemirror_mode": {
    "name": "ipython",
    "version": 3
   },
   "file_extension": ".py",
   "mimetype": "text/x-python",
   "name": "python",
   "nbconvert_exporter": "python",
   "pygments_lexer": "ipython3",
   "version": "3.9.13"
  }
 },
 "nbformat": 4,
 "nbformat_minor": 5
}
