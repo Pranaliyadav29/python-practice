{
 "cells": [
  {
   "cell_type": "markdown",
   "id": "31c1a898",
   "metadata": {},
   "source": [
    "1.create a list of squared integers from a given list of integers."
   ]
  },
  {
   "cell_type": "code",
   "execution_count": 22,
   "id": "8221b58a",
   "metadata": {},
   "outputs": [],
   "source": [
    "def Sqr_list(l):\n",
    "    Sqr_list = []\n",
    "    for i in l:\n",
    "        Sqr_list.append(i**2)\n",
    "    return Sqr_list"
   ]
  },
  {
   "cell_type": "code",
   "execution_count": 23,
   "id": "6212ad71",
   "metadata": {},
   "outputs": [
    {
     "data": {
      "text/plain": [
       "[1, 16, 25, 49]"
      ]
     },
     "execution_count": 23,
     "metadata": {},
     "output_type": "execute_result"
    }
   ],
   "source": [
    "l = [1,4,5,7]\n",
    "Sqr_list(l)"
   ]
  },
  {
   "cell_type": "markdown",
   "id": "fea7cab4",
   "metadata": {},
   "source": [
    "2.Create a list of even numbers from a given list of integers."
   ]
  },
  {
   "cell_type": "code",
   "execution_count": 24,
   "id": "d19ae674",
   "metadata": {},
   "outputs": [],
   "source": [
    "def Even_list(l):\n",
    "    even_list = []\n",
    "    for i in l:\n",
    "        if i%2 ==0:\n",
    "            even_list.append(i)\n",
    "    return even_list"
   ]
  },
  {
   "cell_type": "code",
   "execution_count": 25,
   "id": "e10e100d",
   "metadata": {},
   "outputs": [
    {
     "data": {
      "text/plain": [
       "[2, 4, 6, 8]"
      ]
     },
     "execution_count": 25,
     "metadata": {},
     "output_type": "execute_result"
    }
   ],
   "source": [
    "l = [1,2,3,4,5,6,7,8,9]\n",
    "Even_list(l)"
   ]
  },
  {
   "cell_type": "markdown",
   "id": "c9a68d2d",
   "metadata": {},
   "source": [
    "4.Crete a list of all the words in a given sentence."
   ]
  },
  {
   "cell_type": "code",
   "execution_count": 26,
   "id": "a224d489",
   "metadata": {},
   "outputs": [],
   "source": [
    "def word(l):\n",
    "    return l.split()"
   ]
  },
  {
   "cell_type": "code",
   "execution_count": 27,
   "id": "777d61c8",
   "metadata": {},
   "outputs": [
    {
     "data": {
      "text/plain": [
       "['kjgg']"
      ]
     },
     "execution_count": 27,
     "metadata": {},
     "output_type": "execute_result"
    }
   ],
   "source": [
    "l = \"kjgg\"\n",
    "word(l)"
   ]
  },
  {
   "cell_type": "markdown",
   "id": "b589b2e3",
   "metadata": {},
   "source": [
    "5.Create a list of all the positive numbers from a given list of integers."
   ]
  },
  {
   "cell_type": "code",
   "execution_count": 29,
   "id": "ef2278d3",
   "metadata": {},
   "outputs": [
    {
     "data": {
      "text/plain": [
       "[1, 2, 0]"
      ]
     },
     "execution_count": 29,
     "metadata": {},
     "output_type": "execute_result"
    }
   ],
   "source": [
    "def positive_no(l):\n",
    "    numbers= []\n",
    "    for i in l:\n",
    "        if i>=0:\n",
    "            numbers.append(i)\n",
    "    return numbers\n",
    "numbers= [1,2,-4,-2,0]\n",
    "positive_no(l)    "
   ]
  },
  {
   "cell_type": "markdown",
   "id": "67151ff0",
   "metadata": {},
   "source": [
    "6.Find the sum if all the elements in a given array of integers."
   ]
  },
  {
   "cell_type": "code",
   "execution_count": 1,
   "id": "7722392e",
   "metadata": {},
   "outputs": [],
   "source": [
    "def find_sum(array):\n",
    "    total = 0\n",
    "    for i in array:\n",
    "        total += i\n",
    "    return total"
   ]
  },
  {
   "cell_type": "code",
   "execution_count": 2,
   "id": "7c0a3ced",
   "metadata": {},
   "outputs": [
    {
     "name": "stdout",
     "output_type": "stream",
     "text": [
      "15\n"
     ]
    }
   ],
   "source": [
    "array = [1, 2, 3, 4, 5]\n",
    "sum_of_elements = find_sum(array)\n",
    "print(sum_of_elements)\n"
   ]
  },
  {
   "cell_type": "markdown",
   "id": "21a91f63",
   "metadata": {},
   "source": [
    "7.create a string of all the unique charcaters in a given string."
   ]
  },
  {
   "cell_type": "code",
   "execution_count": 3,
   "id": "7c8b75b1",
   "metadata": {},
   "outputs": [],
   "source": [
    "def unique_words(l):\n",
    "    a = l.split(\" \")\n",
    "    unique = set(a)\n",
    "    return unique"
   ]
  },
  {
   "cell_type": "code",
   "execution_count": 4,
   "id": "ee95745f",
   "metadata": {},
   "outputs": [
    {
     "data": {
      "text/plain": [
       "{'Akanksha', 'Am', 'Hello', 'I', 'Word', 'thorat'}"
      ]
     },
     "execution_count": 4,
     "metadata": {},
     "output_type": "execute_result"
    }
   ],
   "source": [
    "a = \"Hello Word I Am Akanksha thorat\"\n",
    "unique_words(a)\n"
   ]
  },
  {
   "cell_type": "markdown",
   "id": "078bd7a3",
   "metadata": {},
   "source": [
    "8.write a python progrm to count the number 4 in a given list.list=[1,4,6,8,4,2,3,4]"
   ]
  },
  {
   "cell_type": "code",
   "execution_count": 8,
   "id": "a2494276",
   "metadata": {},
   "outputs": [],
   "source": [
    "def count_4(number):\n",
    "    count = 0\n",
    "    for i in number:\n",
    "        if i == 4:\n",
    "            count += 1\n",
    "    return count"
   ]
  },
  {
   "cell_type": "code",
   "execution_count": 9,
   "id": "7dea376d",
   "metadata": {},
   "outputs": [
    {
     "name": "stdout",
     "output_type": "stream",
     "text": [
      "The number of occurrences of 4 in the list is: 3\n"
     ]
    }
   ],
   "source": [
    "my_list = [1, 4, 6, 8, 4, 2, 3, 4]\n",
    "count = count_4(my_list)\n",
    "print(\"The number of occurrences of 4 in the list is:\", count)"
   ]
  },
  {
   "cell_type": "markdown",
   "id": "1cd4924e",
   "metadata": {},
   "source": [
    "9.write a pythin program that will accept the base and height of a triangle and copute its area."
   ]
  },
  {
   "cell_type": "code",
   "execution_count": 15,
   "id": "d2baca38",
   "metadata": {},
   "outputs": [],
   "source": [
    "def calculate_triangle_area(base, height):\n",
    "    area = 0.5 * base * height\n",
    "    return area"
   ]
  },
  {
   "cell_type": "code",
   "execution_count": 16,
   "id": "59dd424a",
   "metadata": {},
   "outputs": [
    {
     "name": "stdout",
     "output_type": "stream",
     "text": [
      "Enter the base of the triangle: 3\n",
      "Enter the height of the triangle: 2\n",
      "The area of the triangle is: 3.0\n"
     ]
    }
   ],
   "source": [
    "base = float(input(\"Enter the base of the triangle: \"))\n",
    "height = float(input(\"Enter the height of the triangle: \"))\n",
    "\n",
    "triangle_area = calculate_triangle_area(base, height)\n",
    "print(\"The area of the triangle is:\", triangle_area)"
   ]
  },
  {
   "cell_type": "markdown",
   "id": "f3ad332f",
   "metadata": {},
   "source": [
    "10.write a python program to calculate sum of digits of a number."
   ]
  },
  {
   "cell_type": "code",
   "execution_count": 20,
   "id": "1979b7f6",
   "metadata": {},
   "outputs": [],
   "source": [
    "def calculate_digit_sum(number):\n",
    "    number_str = str(number)\n",
    "    digit_sum = 0\n",
    "    for digit in number_str:\n",
    "        digit_sum += int(digit)\n",
    "    return digit_sum"
   ]
  },
  {
   "cell_type": "code",
   "execution_count": 21,
   "id": "d645cfc6",
   "metadata": {},
   "outputs": [
    {
     "name": "stdout",
     "output_type": "stream",
     "text": [
      "Enter a number: 333\n",
      "The sum of the digits of the number is: 9\n"
     ]
    }
   ],
   "source": [
    "\n",
    "number = int(input(\"Enter a number: \"))\n",
    "\n",
    "sum_of_digits = calculate_digit_sum(number)\n",
    "print(\"The sum of the digits of the number is:\", sum_of_digits)"
   ]
  },
  {
   "cell_type": "code",
   "execution_count": null,
   "id": "9c48f04c",
   "metadata": {},
   "outputs": [],
   "source": []
  }
 ],
 "metadata": {
  "kernelspec": {
   "display_name": "Python 3 (ipykernel)",
   "language": "python",
   "name": "python3"
  },
  "language_info": {
   "codemirror_mode": {
    "name": "ipython",
    "version": 3
   },
   "file_extension": ".py",
   "mimetype": "text/x-python",
   "name": "python",
   "nbconvert_exporter": "python",
   "pygments_lexer": "ipython3",
   "version": "3.9.13"
  }
 },
 "nbformat": 4,
 "nbformat_minor": 5
}
