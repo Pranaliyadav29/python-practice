{
 "cells": [
  {
   "cell_type": "code",
   "execution_count": null,
   "id": "6fa68e9c",
   "metadata": {},
   "outputs": [],
   "source": [
    "pip install matplotlib "
   ]
  },
  {
   "cell_type": "code",
   "execution_count": null,
   "id": "0eef6b30",
   "metadata": {},
   "outputs": [],
   "source": [
    "import matplotlib.pyplot as plt "
   ]
  },
  {
   "cell_type": "markdown",
   "id": "9cc2ae29",
   "metadata": {},
   "source": [
    "***Line plot***"
   ]
  },
  {
   "cell_type": "code",
   "execution_count": null,
   "id": "0ee3b641",
   "metadata": {},
   "outputs": [],
   "source": [
    "\n",
    "x = [1,2,3,4,5]\n",
    "y = [5,8,7,9,15]"
   ]
  },
  {
   "cell_type": "code",
   "execution_count": null,
   "id": "78e9c828",
   "metadata": {
    "scrolled": true
   },
   "outputs": [],
   "source": [
    "plt.plot(x,y)\n",
    "plt.show()"
   ]
  },
  {
   "cell_type": "code",
   "execution_count": null,
   "id": "7b600a9e",
   "metadata": {},
   "outputs": [],
   "source": [
    "plt.plot([1,2,3])\n",
    "plt.title(\"Line plot\")\n",
    "plt.show()"
   ]
  },
  {
   "cell_type": "markdown",
   "id": "a2bc97d2",
   "metadata": {},
   "source": [
    "***Pie Plot***"
   ]
  },
  {
   "cell_type": "code",
   "execution_count": null,
   "id": "e57cf16f",
   "metadata": {},
   "outputs": [],
   "source": [
    "labels = 'Broccoli','chocolate cake','BLueberries','Raspberries'\n",
    "sizes = [30,330,245,210]\n",
    "colors = ['green','brown','brown','red']\n",
    "plt.pie(sizes,labels=labels,colors=colors)\n",
    "plt.axis('equal')\n",
    "plt.title(\"Pie plot\")\n",
    "plt.show"
   ]
  },
  {
   "cell_type": "code",
   "execution_count": null,
   "id": "cf797955",
   "metadata": {},
   "outputs": [],
   "source": [
    "import matplotlib.pyplot as plt\n",
    "import numpy as np\n",
    "xdata=['A','B','C']\n",
    "ydata=[1,3,5]\n",
    "plt.bar(range(len(xdata)),ydata)\n",
    "plt.title(\"Bar plot\")\n",
    "plt.show"
   ]
  },
  {
   "cell_type": "code",
   "execution_count": null,
   "id": "787a7205",
   "metadata": {},
   "outputs": [],
   "source": [
    "x = [5,2,9,4,7]\n",
    "y = [10,5,8,4,2]\n",
    "plt.plot(x,y)\n",
    "plt.show"
   ]
  },
  {
   "cell_type": "code",
   "execution_count": null,
   "id": "5d8f3791",
   "metadata": {},
   "outputs": [],
   "source": [
    "plt.plot(x,y,marker = '*',color = 'y')\n",
    "plt.show()"
   ]
  },
  {
   "cell_type": "code",
   "execution_count": null,
   "id": "6c625a1b",
   "metadata": {},
   "outputs": [],
   "source": [
    "\n",
    "x = [1,2,3,4,5]\n",
    "y = [5,8,7,9,15]\n",
    "plt.plot(x,y,marker = '*',color = \"r\",linestyle = '-.',linewidth = 3.5,mec = 'Black',mfc = \"y\",mew = 2)\n",
    "plt.show()\n"
   ]
  },
  {
   "cell_type": "code",
   "execution_count": null,
   "id": "a5b52b2e",
   "metadata": {},
   "outputs": [],
   "source": [
    "import pandas as pd"
   ]
  },
  {
   "cell_type": "code",
   "execution_count": null,
   "id": "60f2e723",
   "metadata": {},
   "outputs": [],
   "source": [
    "df = pd.read_csv(\"E:\\student1 (1).csv\")"
   ]
  },
  {
   "cell_type": "code",
   "execution_count": null,
   "id": "7ac5f3d6",
   "metadata": {},
   "outputs": [],
   "source": [
    "df.head()"
   ]
  },
  {
   "cell_type": "code",
   "execution_count": null,
   "id": "737938c1",
   "metadata": {},
   "outputs": [],
   "source": [
    "#plotted chart by using the excel file\n",
    "plt.plot(df[\"gpa\"],df[\"exp\"])\n",
    "plt.show()"
   ]
  },
  {
   "cell_type": "code",
   "execution_count": null,
   "id": "2e5940d6",
   "metadata": {},
   "outputs": [],
   "source": [
    "#we can plot chart by using symbols(*)\n",
    "x = [1,4,5,6,7,8]\n",
    "y = [3,6,4,5,9,5]\n",
    "plt.plot(x,y,\"*\")\n",
    "plt.show()"
   ]
  },
  {
   "cell_type": "code",
   "execution_count": null,
   "id": "1ec1b64f",
   "metadata": {},
   "outputs": [],
   "source": [
    "#we can plot chart by using symbols(*, 0) and we change line\n",
    "# ,color,size,shape.\n",
    "#color(c) = \"green\",linestyle(ls) =\"dashed\",marker(m) = \"o\"\n",
    "x = [1,4,5,6,7,8,5,7,6,9,6]\n",
    "y = [3,6,4,5,9,5,2,3,2,1,3]\n",
    "plt.plot(x,y,color=\"red\",linestyle=\"dotted\",marker=\"*\",linewidth=\"2\",mfc=\"red\",markersize=\"12\",mec=\"blue\")\n",
    "plt.show()\n"
   ]
  },
  {
   "cell_type": "code",
   "execution_count": null,
   "id": "373c4d36",
   "metadata": {},
   "outputs": [],
   "source": [
    "#loc(location)\n",
    "#tp take label name use axis n lable together\n",
    "#to give title name fir the chart\n",
    "x = [1,4,5,6,7,8,5,7,8,2,4,4]\n",
    "y = [2,3,4,5,6,9,7,8,9,9,6,8]\n",
    "plt.plot(x,y,color=\"green\",linestyle=\"dashed\",marker=\"*\",linewidth=\"2\",mfc=\"red\",markersize=\"12\",mec=\"blue\")\n",
    "plt.xlabel(\"salary\",c=\"b\",loc = \"right\")\n",
    "plt.ylabel(\"cars\",c = \"r\",loc = \"top\")\n",
    "plt.title(\"expense\",loc = \"right\")\n",
    "plt.grid(c = \"r\",ls = \"-\",lw=\"1\")\n",
    "plt.show()"
   ]
  },
  {
   "cell_type": "code",
   "execution_count": null,
   "id": "3a7751fd",
   "metadata": {},
   "outputs": [],
   "source": [
    "age = [4,5,5,5,6,12,9,10,4]\n",
    "speed=[100,130,140,170,190,170,195,190,150]\n",
    "speed2 = [90,95,85,70,90,80,220,120,160]\n",
    "len(speed2)"
   ]
  },
  {
   "cell_type": "code",
   "execution_count": null,
   "id": "0e125a6e",
   "metadata": {},
   "outputs": [],
   "source": [
    "#To add one more data in chart use double scatter function\n",
    "plt.scatter(age,speed,marker=\"s\",c=\"olive\")\n",
    "plt.scatter(age,speed2,marker= \"s\",c=\"purple\")\n",
    "plt.show()"
   ]
  },
  {
   "cell_type": "code",
   "execution_count": null,
   "id": "9afb6921",
   "metadata": {},
   "outputs": [],
   "source": [
    "#to make bar chart in horizontal with width and align\n",
    "x = [\"a\",\"b\",\"c\",\"d\"]\n",
    "y = [6,5,1,9]\n",
    "plt.bar(x,y,width=0.4,align='edge')\n",
    "plt.show()"
   ]
  },
  {
   "cell_type": "code",
   "execution_count": null,
   "id": "4f50d26b",
   "metadata": {},
   "outputs": [],
   "source": [
    "# to make bar chart in vertical with width and height,color,edgecolor(ec),facecolor(fc)\n",
    "# can not change width but can lower the height\n",
    "x = ['a','b','c','d']\n",
    "y = [2,4,6,8]\n",
    "plt.barh(x,y,height=0.3,color='b',edgecolor='r',facecolor='g')\n",
    "plt.show()"
   ]
  },
  {
   "cell_type": "code",
   "execution_count": null,
   "id": "055bc9c7",
   "metadata": {},
   "outputs": [],
   "source": [
    "import numpy as np"
   ]
  },
  {
   "cell_type": "code",
   "execution_count": null,
   "id": "840679e8",
   "metadata": {},
   "outputs": [],
   "source": [
    "#to take out required samples in chart\n",
    "#(mean std sample)\n",
    "x= np.random.normal(120,30,200)\n",
    "x"
   ]
  },
  {
   "cell_type": "code",
   "execution_count": null,
   "id": "eeb760d0",
   "metadata": {},
   "outputs": [],
   "source": [
    "#to take histrogram chart\n",
    "#bins=bars\n",
    "plt.hist(x,bins=15)\n",
    "plt.show()"
   ]
  },
  {
   "cell_type": "code",
   "execution_count": null,
   "id": "8b684376",
   "metadata": {},
   "outputs": [],
   "source": [
    "bin=[90,100,120,130,150,155,160,163,165,170,178,180]\n"
   ]
  },
  {
   "cell_type": "code",
   "execution_count": null,
   "id": "1f07a442",
   "metadata": {},
   "outputs": [],
   "source": [
    "plt.hist(x,bins=bin,color=\"r\")\n",
    "plt.show()"
   ]
  },
  {
   "cell_type": "code",
   "execution_count": null,
   "id": "c5fb1890",
   "metadata": {},
   "outputs": [],
   "source": [
    "#to get the pie chart use pie func.and also use other colors\n",
    "x = [\"a\",\"b\",\"c\",\"d\"]\n",
    "y=[40,20,10,30]\n",
    "c=['b','r','coral','purple']\n",
    "plt.pie(y,labels=x,colors=c,explode=[0.0,0.2,0.0,0.0],startangle=90)\n",
    "plt.show()"
   ]
  },
  {
   "cell_type": "code",
   "execution_count": null,
   "id": "f985c10c",
   "metadata": {},
   "outputs": [],
   "source": [
    "#in this chart we change color,set the location for name index\n",
    "#and also give names to chart,name in column or row,fontsize,facecolor\n",
    "plt.scatter(age,speed,marker='s',c='olive')\n",
    "plt.scatter(age,speed2,marker='s',c='purple')\n",
    "plt.xlabel(\"age\")\n",
    "plt.ylabel(\"speed\")\n",
    "plt.title(\"car comparision\")\n",
    "plt.legend(['speed','speed1'],loc=\"lower left\",ncol=2,facecolor=\"y\",fontsize=10)\n",
    "plt.show()"
   ]
  },
  {
   "cell_type": "code",
   "execution_count": null,
   "id": "f91aba91",
   "metadata": {},
   "outputs": [],
   "source": []
  }
 ],
 "metadata": {
  "kernelspec": {
   "display_name": "Python 3 (ipykernel)",
   "language": "python",
   "name": "python3"
  },
  "language_info": {
   "codemirror_mode": {
    "name": "ipython",
    "version": 3
   },
   "file_extension": ".py",
   "mimetype": "text/x-python",
   "name": "python",
   "nbconvert_exporter": "python",
   "pygments_lexer": "ipython3",
   "version": "3.9.13"
  }
 },
 "nbformat": 4,
 "nbformat_minor": 5
}
