{
 "cells": [
  {
   "cell_type": "markdown",
   "id": "6cb904c5",
   "metadata": {},
   "source": [
    "# Basics Of Python"
   ]
  },
  {
   "cell_type": "code",
   "execution_count": 1,
   "id": "25f4f75a",
   "metadata": {},
   "outputs": [
    {
     "name": "stdout",
     "output_type": "stream",
     "text": [
      "Hello Word\n"
     ]
    }
   ],
   "source": [
    "print(\"Hello Word\")"
   ]
  },
  {
   "cell_type": "code",
   "execution_count": 3,
   "id": "756a4cbd",
   "metadata": {},
   "outputs": [
    {
     "data": {
      "text/plain": [
       "'python'"
      ]
     },
     "execution_count": 3,
     "metadata": {},
     "output_type": "execute_result"
    }
   ],
   "source": [
    "a =\"python\"\n",
    "a"
   ]
  },
  {
   "cell_type": "code",
   "execution_count": 4,
   "id": "f2691190",
   "metadata": {},
   "outputs": [
    {
     "data": {
      "text/plain": [
       "10"
      ]
     },
     "execution_count": 4,
     "metadata": {},
     "output_type": "execute_result"
    }
   ],
   "source": [
    "c=10\n",
    "c"
   ]
  },
  {
   "cell_type": "markdown",
   "id": "818d78d8",
   "metadata": {},
   "source": [
    "# Mathematical Operators"
   ]
  },
  {
   "cell_type": "code",
   "execution_count": 5,
   "id": "2cc1e129",
   "metadata": {},
   "outputs": [],
   "source": [
    "a=50\n",
    "b=10"
   ]
  },
  {
   "cell_type": "code",
   "execution_count": 6,
   "id": "9396b80d",
   "metadata": {},
   "outputs": [
    {
     "data": {
      "text/plain": [
       "60"
      ]
     },
     "execution_count": 6,
     "metadata": {},
     "output_type": "execute_result"
    }
   ],
   "source": [
    "a+b"
   ]
  },
  {
   "cell_type": "code",
   "execution_count": 7,
   "id": "5f52fe71",
   "metadata": {},
   "outputs": [
    {
     "data": {
      "text/plain": [
       "40"
      ]
     },
     "execution_count": 7,
     "metadata": {},
     "output_type": "execute_result"
    }
   ],
   "source": [
    "a-b"
   ]
  },
  {
   "cell_type": "code",
   "execution_count": 8,
   "id": "ff7e708b",
   "metadata": {},
   "outputs": [
    {
     "data": {
      "text/plain": [
       "500"
      ]
     },
     "execution_count": 8,
     "metadata": {},
     "output_type": "execute_result"
    }
   ],
   "source": [
    "a*b"
   ]
  },
  {
   "cell_type": "code",
   "execution_count": 9,
   "id": "640f7ac0",
   "metadata": {},
   "outputs": [
    {
     "data": {
      "text/plain": [
       "5.0"
      ]
     },
     "execution_count": 9,
     "metadata": {},
     "output_type": "execute_result"
    }
   ],
   "source": [
    "a/b"
   ]
  },
  {
   "cell_type": "code",
   "execution_count": 5,
   "id": "6703c1f9",
   "metadata": {},
   "outputs": [
    {
     "data": {
      "text/plain": [
       "4"
      ]
     },
     "execution_count": 5,
     "metadata": {},
     "output_type": "execute_result"
    }
   ],
   "source": [
    "a = 40\n",
    "b =10\n",
    "a%b\n",
    "a//b\n"
   ]
  },
  {
   "cell_type": "code",
   "execution_count": 10,
   "id": "05ef0874",
   "metadata": {},
   "outputs": [
    {
     "data": {
      "text/plain": [
       "0"
      ]
     },
     "execution_count": 10,
     "metadata": {},
     "output_type": "execute_result"
    }
   ],
   "source": [
    "a%b # % means reaminng value"
   ]
  },
  {
   "cell_type": "code",
   "execution_count": 11,
   "id": "a5efc586",
   "metadata": {},
   "outputs": [
    {
     "data": {
      "text/plain": [
       "5"
      ]
     },
     "execution_count": 11,
     "metadata": {},
     "output_type": "execute_result"
    }
   ],
   "source": [
    "a//b #point ke pahle ka division no "
   ]
  },
  {
   "cell_type": "code",
   "execution_count": 12,
   "id": "dfc24a92",
   "metadata": {},
   "outputs": [],
   "source": [
    "a=50\n",
    "b=7"
   ]
  },
  {
   "cell_type": "code",
   "execution_count": 13,
   "id": "ea5f2bfb",
   "metadata": {},
   "outputs": [
    {
     "data": {
      "text/plain": [
       "7"
      ]
     },
     "execution_count": 13,
     "metadata": {},
     "output_type": "execute_result"
    }
   ],
   "source": [
    "a//b"
   ]
  },
  {
   "cell_type": "markdown",
   "id": "2f2c1aeb",
   "metadata": {},
   "source": [
    "# Comparision Operator"
   ]
  },
  {
   "cell_type": "code",
   "execution_count": 3,
   "id": "8b13f37d",
   "metadata": {},
   "outputs": [
    {
     "data": {
      "text/plain": [
       "'python'"
      ]
     },
     "execution_count": 3,
     "metadata": {},
     "output_type": "execute_result"
    }
   ],
   "source": [
    "a"
   ]
  },
  {
   "cell_type": "code",
   "execution_count": 14,
   "id": "d330a781",
   "metadata": {},
   "outputs": [],
   "source": [
    "a=50\n",
    "b=20"
   ]
  },
  {
   "cell_type": "code",
   "execution_count": 15,
   "id": "6ed21b7c",
   "metadata": {},
   "outputs": [
    {
     "data": {
      "text/plain": [
       "False"
      ]
     },
     "execution_count": 15,
     "metadata": {},
     "output_type": "execute_result"
    }
   ],
   "source": [
    "a<=b"
   ]
  },
  {
   "cell_type": "code",
   "execution_count": 16,
   "id": "144817e1",
   "metadata": {},
   "outputs": [
    {
     "data": {
      "text/plain": [
       "True"
      ]
     },
     "execution_count": 16,
     "metadata": {},
     "output_type": "execute_result"
    }
   ],
   "source": [
    "a>=b"
   ]
  },
  {
   "cell_type": "code",
   "execution_count": 17,
   "id": "8291be97",
   "metadata": {},
   "outputs": [
    {
     "data": {
      "text/plain": [
       "False"
      ]
     },
     "execution_count": 17,
     "metadata": {},
     "output_type": "execute_result"
    }
   ],
   "source": [
    "a == b"
   ]
  },
  {
   "cell_type": "code",
   "execution_count": 18,
   "id": "9a614e6a",
   "metadata": {},
   "outputs": [
    {
     "data": {
      "text/plain": [
       "True"
      ]
     },
     "execution_count": 18,
     "metadata": {},
     "output_type": "execute_result"
    }
   ],
   "source": [
    "a!=b"
   ]
  },
  {
   "cell_type": "markdown",
   "id": "8c94c91e",
   "metadata": {},
   "source": [
    "# Logical Operator"
   ]
  },
  {
   "cell_type": "code",
   "execution_count": 19,
   "id": "7258a128",
   "metadata": {},
   "outputs": [],
   "source": [
    "a= True\n",
    "b= False"
   ]
  },
  {
   "cell_type": "code",
   "execution_count": 20,
   "id": "66460de5",
   "metadata": {},
   "outputs": [
    {
     "data": {
      "text/plain": [
       "False"
      ]
     },
     "execution_count": 20,
     "metadata": {},
     "output_type": "execute_result"
    }
   ],
   "source": [
    "a and b #When both are true then true"
   ]
  },
  {
   "cell_type": "code",
   "execution_count": 21,
   "id": "02490292",
   "metadata": {},
   "outputs": [
    {
     "data": {
      "text/plain": [
       "True"
      ]
     },
     "execution_count": 21,
     "metadata": {},
     "output_type": "execute_result"
    }
   ],
   "source": [
    "a or b #When both are false then false"
   ]
  },
  {
   "cell_type": "code",
   "execution_count": 22,
   "id": "2a572cc7",
   "metadata": {},
   "outputs": [
    {
     "data": {
      "text/plain": [
       "False"
      ]
     },
     "execution_count": 22,
     "metadata": {},
     "output_type": "execute_result"
    }
   ],
   "source": [
    "not a #negative value"
   ]
  },
  {
   "cell_type": "markdown",
   "id": "81d695f8",
   "metadata": {},
   "source": [
    "# Assignment Operator "
   ]
  },
  {
   "cell_type": "code",
   "execution_count": 23,
   "id": "dfb5d73c",
   "metadata": {},
   "outputs": [],
   "source": [
    "a=13"
   ]
  },
  {
   "cell_type": "code",
   "execution_count": 24,
   "id": "f1c993d5",
   "metadata": {},
   "outputs": [
    {
     "data": {
      "text/plain": [
       "14"
      ]
     },
     "execution_count": 24,
     "metadata": {},
     "output_type": "execute_result"
    }
   ],
   "source": [
    "a+1"
   ]
  },
  {
   "cell_type": "code",
   "execution_count": 25,
   "id": "a10950e8",
   "metadata": {},
   "outputs": [
    {
     "data": {
      "text/plain": [
       "13"
      ]
     },
     "execution_count": 25,
     "metadata": {},
     "output_type": "execute_result"
    }
   ],
   "source": [
    "a"
   ]
  },
  {
   "cell_type": "code",
   "execution_count": 26,
   "id": "64f34980",
   "metadata": {},
   "outputs": [
    {
     "data": {
      "text/plain": [
       "14"
      ]
     },
     "execution_count": 26,
     "metadata": {},
     "output_type": "execute_result"
    }
   ],
   "source": [
    "a=a+1\n",
    "a"
   ]
  },
  {
   "cell_type": "code",
   "execution_count": 27,
   "id": "6963ceca",
   "metadata": {},
   "outputs": [
    {
     "data": {
      "text/plain": [
       "13"
      ]
     },
     "execution_count": 27,
     "metadata": {},
     "output_type": "execute_result"
    }
   ],
   "source": [
    "a -=1\n",
    "a"
   ]
  },
  {
   "cell_type": "markdown",
   "id": "7360c7bb",
   "metadata": {},
   "source": [
    "# Betwiswe operator"
   ]
  },
  {
   "cell_type": "code",
   "execution_count": 28,
   "id": "ce80f402",
   "metadata": {},
   "outputs": [],
   "source": [
    "a =12"
   ]
  },
  {
   "cell_type": "code",
   "execution_count": 29,
   "id": "facb0ac6",
   "metadata": {},
   "outputs": [
    {
     "data": {
      "text/plain": [
       "48"
      ]
     },
     "execution_count": 29,
     "metadata": {},
     "output_type": "execute_result"
    }
   ],
   "source": [
    "a<<2 #12*2*2"
   ]
  },
  {
   "cell_type": "code",
   "execution_count": 30,
   "id": "1cb9190a",
   "metadata": {},
   "outputs": [
    {
     "data": {
      "text/plain": [
       "3"
      ]
     },
     "execution_count": 30,
     "metadata": {},
     "output_type": "execute_result"
    }
   ],
   "source": [
    "a>>2 #12/(2*2)"
   ]
  },
  {
   "cell_type": "markdown",
   "id": "b655ea29",
   "metadata": {},
   "source": [
    "# Membership Operator"
   ]
  },
  {
   "cell_type": "code",
   "execution_count": 31,
   "id": "96ac6e42",
   "metadata": {},
   "outputs": [],
   "source": [
    "a = \"python\""
   ]
  },
  {
   "cell_type": "code",
   "execution_count": 32,
   "id": "d80d6c32",
   "metadata": {},
   "outputs": [
    {
     "data": {
      "text/plain": [
       "True"
      ]
     },
     "execution_count": 32,
     "metadata": {},
     "output_type": "execute_result"
    }
   ],
   "source": [
    "\"p\" in a"
   ]
  },
  {
   "cell_type": "code",
   "execution_count": 33,
   "id": "f005d4ae",
   "metadata": {},
   "outputs": [
    {
     "data": {
      "text/plain": [
       "True"
      ]
     },
     "execution_count": 33,
     "metadata": {},
     "output_type": "execute_result"
    }
   ],
   "source": [
    "\"abc\" not in a"
   ]
  },
  {
   "cell_type": "code",
   "execution_count": 34,
   "id": "e116fd50",
   "metadata": {},
   "outputs": [],
   "source": [
    "username = \"pass@123\""
   ]
  },
  {
   "cell_type": "code",
   "execution_count": 35,
   "id": "8edec9d2",
   "metadata": {},
   "outputs": [
    {
     "data": {
      "text/plain": [
       "'pass@123'"
      ]
     },
     "execution_count": 35,
     "metadata": {},
     "output_type": "execute_result"
    }
   ],
   "source": [
    "username"
   ]
  },
  {
   "cell_type": "code",
   "execution_count": null,
   "id": "bf91912a",
   "metadata": {},
   "outputs": [],
   "source": [
    "username = input(\"Enter ur username:\")"
   ]
  },
  {
   "cell_type": "code",
   "execution_count": null,
   "id": "bbabe62f",
   "metadata": {},
   "outputs": [],
   "source": [
    "username"
   ]
  },
  {
   "cell_type": "markdown",
   "id": "8208e2d4",
   "metadata": {},
   "source": [
    "# Data Types:\n"
   ]
  },
  {
   "cell_type": "markdown",
   "id": "75050eed",
   "metadata": {},
   "source": [
    "# 1. Strings"
   ]
  },
  {
   "cell_type": "code",
   "execution_count": 1,
   "id": "5c9a4820",
   "metadata": {},
   "outputs": [],
   "source": [
    "a=\"Indian\""
   ]
  },
  {
   "cell_type": "code",
   "execution_count": 2,
   "id": "e337d712",
   "metadata": {},
   "outputs": [
    {
     "data": {
      "text/plain": [
       "'Indian'"
      ]
     },
     "execution_count": 2,
     "metadata": {},
     "output_type": "execute_result"
    }
   ],
   "source": [
    "a"
   ]
  },
  {
   "cell_type": "code",
   "execution_count": 3,
   "id": "d9b7b556",
   "metadata": {},
   "outputs": [
    {
     "data": {
      "text/plain": [
       "str"
      ]
     },
     "execution_count": 3,
     "metadata": {},
     "output_type": "execute_result"
    }
   ],
   "source": [
    "type(a)"
   ]
  },
  {
   "cell_type": "code",
   "execution_count": 4,
   "id": "6202c8e5",
   "metadata": {},
   "outputs": [],
   "source": [
    "s = \"Data science\""
   ]
  },
  {
   "cell_type": "code",
   "execution_count": 5,
   "id": "fe4e707a",
   "metadata": {},
   "outputs": [],
   "source": [
    "s = [-5]"
   ]
  },
  {
   "cell_type": "code",
   "execution_count": 5,
   "id": "dd42ac4b",
   "metadata": {},
   "outputs": [
    {
     "data": {
      "text/plain": [
       "'a'"
      ]
     },
     "execution_count": 5,
     "metadata": {},
     "output_type": "execute_result"
    }
   ],
   "source": [
    "s[3] "
   ]
  },
  {
   "cell_type": "code",
   "execution_count": 6,
   "id": "04e074fc",
   "metadata": {},
   "outputs": [
    {
     "data": {
      "text/plain": [
       "12"
      ]
     },
     "execution_count": 6,
     "metadata": {},
     "output_type": "execute_result"
    }
   ],
   "source": [
    "len(s)"
   ]
  },
  {
   "cell_type": "code",
   "execution_count": 7,
   "id": "b59a1174",
   "metadata": {},
   "outputs": [
    {
     "data": {
      "text/plain": [
       "'i'"
      ]
     },
     "execution_count": 7,
     "metadata": {},
     "output_type": "execute_result"
    }
   ],
   "source": [
    "s[-5]"
   ]
  },
  {
   "cell_type": "code",
   "execution_count": 8,
   "id": "f8d15642",
   "metadata": {},
   "outputs": [
    {
     "data": {
      "text/plain": [
       "'Data'"
      ]
     },
     "execution_count": 8,
     "metadata": {},
     "output_type": "execute_result"
    }
   ],
   "source": [
    "s[0:4]"
   ]
  },
  {
   "cell_type": "code",
   "execution_count": 9,
   "id": "66bca0a5",
   "metadata": {},
   "outputs": [
    {
     "data": {
      "text/plain": [
       "'scienc'"
      ]
     },
     "execution_count": 9,
     "metadata": {},
     "output_type": "execute_result"
    }
   ],
   "source": [
    "s[-7:-1]"
   ]
  },
  {
   "cell_type": "code",
   "execution_count": 10,
   "id": "affbe937",
   "metadata": {},
   "outputs": [],
   "source": [
    "a=\"python\""
   ]
  },
  {
   "cell_type": "code",
   "execution_count": 11,
   "id": "d04163d2",
   "metadata": {},
   "outputs": [
    {
     "data": {
      "text/plain": [
       "'python'"
      ]
     },
     "execution_count": 11,
     "metadata": {},
     "output_type": "execute_result"
    }
   ],
   "source": [
    "a"
   ]
  },
  {
   "cell_type": "code",
   "execution_count": 12,
   "id": "b632d72d",
   "metadata": {},
   "outputs": [
    {
     "data": {
      "text/plain": [
       "'pyth'"
      ]
     },
     "execution_count": 12,
     "metadata": {},
     "output_type": "execute_result"
    }
   ],
   "source": [
    "a[-6:-2]"
   ]
  },
  {
   "cell_type": "code",
   "execution_count": 13,
   "id": "00537860",
   "metadata": {},
   "outputs": [
    {
     "data": {
      "text/plain": [
       "'nohtyp'"
      ]
     },
     "execution_count": 13,
     "metadata": {},
     "output_type": "execute_result"
    }
   ],
   "source": [
    "a[-1:-7:-1]"
   ]
  },
  {
   "cell_type": "code",
   "execution_count": 18,
   "id": "881c2416",
   "metadata": {},
   "outputs": [],
   "source": [
    "a = \"Python\"\n",
    "b = \"Data science\""
   ]
  },
  {
   "cell_type": "code",
   "execution_count": 19,
   "id": "fc318f2e",
   "metadata": {},
   "outputs": [
    {
     "data": {
      "text/plain": [
       "'PythonData science'"
      ]
     },
     "execution_count": 19,
     "metadata": {},
     "output_type": "execute_result"
    }
   ],
   "source": [
    "a+b"
   ]
  },
  {
   "cell_type": "code",
   "execution_count": 20,
   "id": "cdfbab6b",
   "metadata": {},
   "outputs": [
    {
     "data": {
      "text/plain": [
       "'Python'"
      ]
     },
     "execution_count": 20,
     "metadata": {},
     "output_type": "execute_result"
    }
   ],
   "source": [
    "a"
   ]
  },
  {
   "cell_type": "code",
   "execution_count": 21,
   "id": "132950de",
   "metadata": {},
   "outputs": [
    {
     "data": {
      "text/plain": [
       "True"
      ]
     },
     "execution_count": 21,
     "metadata": {},
     "output_type": "execute_result"
    }
   ],
   "source": [
    "\"o\" in  a"
   ]
  },
  {
   "cell_type": "code",
   "execution_count": 22,
   "id": "d8cc706b",
   "metadata": {},
   "outputs": [
    {
     "data": {
      "text/plain": [
       "'z in a'"
      ]
     },
     "execution_count": 22,
     "metadata": {},
     "output_type": "execute_result"
    }
   ],
   "source": [
    "\"z in a\""
   ]
  },
  {
   "cell_type": "code",
   "execution_count": 23,
   "id": "55ae6c76",
   "metadata": {},
   "outputs": [],
   "source": [
    "a=\"   python     \""
   ]
  },
  {
   "cell_type": "code",
   "execution_count": 24,
   "id": "700e07aa",
   "metadata": {},
   "outputs": [
    {
     "data": {
      "text/plain": [
       "'python     '"
      ]
     },
     "execution_count": 24,
     "metadata": {},
     "output_type": "execute_result"
    }
   ],
   "source": [
    "a.lstrip()"
   ]
  },
  {
   "cell_type": "code",
   "execution_count": 25,
   "id": "f5e0dd9b",
   "metadata": {},
   "outputs": [
    {
     "data": {
      "text/plain": [
       "'   python'"
      ]
     },
     "execution_count": 25,
     "metadata": {},
     "output_type": "execute_result"
    }
   ],
   "source": [
    "a.rstrip()"
   ]
  },
  {
   "cell_type": "code",
   "execution_count": 26,
   "id": "851b60e6",
   "metadata": {},
   "outputs": [
    {
     "data": {
      "text/plain": [
       "'python'"
      ]
     },
     "execution_count": 26,
     "metadata": {},
     "output_type": "execute_result"
    }
   ],
   "source": [
    "a.strip()"
   ]
  },
  {
   "cell_type": "code",
   "execution_count": 27,
   "id": "c31395bc",
   "metadata": {},
   "outputs": [],
   "source": [
    "a = \"Everything Everytime Everyone EveryWhere\""
   ]
  },
  {
   "cell_type": "code",
   "execution_count": null,
   "id": "7406368a",
   "metadata": {},
   "outputs": [],
   "source": [
    "a.find(\"Every\")"
   ]
  },
  {
   "cell_type": "code",
   "execution_count": null,
   "id": "d6410551",
   "metadata": {},
   "outputs": [],
   "source": [
    "a.count(\"Every\")"
   ]
  },
  {
   "cell_type": "code",
   "execution_count": null,
   "id": "539259ae",
   "metadata": {},
   "outputs": [],
   "source": [
    "a.count(\"asdf\")"
   ]
  },
  {
   "cell_type": "code",
   "execution_count": null,
   "id": "1451d86f",
   "metadata": {},
   "outputs": [],
   "source": [
    "a=\"pythonsjavascsc++s\""
   ]
  },
  {
   "cell_type": "code",
   "execution_count": null,
   "id": "3e1d6b09",
   "metadata": {},
   "outputs": [],
   "source": [
    "a.split(\"s\")"
   ]
  },
  {
   "cell_type": "code",
   "execution_count": null,
   "id": "61094243",
   "metadata": {},
   "outputs": [],
   "source": [
    "answer = b.split(\" \")"
   ]
  },
  {
   "cell_type": "code",
   "execution_count": null,
   "id": "0072bc2c",
   "metadata": {},
   "outputs": [],
   "source": [
    "type(answer)"
   ]
  },
  {
   "cell_type": "code",
   "execution_count": null,
   "id": "cecf5252",
   "metadata": {},
   "outputs": [],
   "source": [
    "a.replace(\"python\",\"java\")"
   ]
  },
  {
   "cell_type": "code",
   "execution_count": null,
   "id": "2ff8f834",
   "metadata": {},
   "outputs": [],
   "source": [
    "s=('python','c','c++','java')"
   ]
  },
  {
   "cell_type": "code",
   "execution_count": null,
   "id": "c12da807",
   "metadata": {},
   "outputs": [],
   "source": [
    "output= '*'.join(s)"
   ]
  },
  {
   "cell_type": "code",
   "execution_count": null,
   "id": "a729b940",
   "metadata": {},
   "outputs": [],
   "source": [
    "output"
   ]
  },
  {
   "cell_type": "code",
   "execution_count": null,
   "id": "e0617ff1",
   "metadata": {},
   "outputs": [],
   "source": [
    "s=\"Learning Python Is Very Easy\""
   ]
  },
  {
   "cell_type": "code",
   "execution_count": null,
   "id": "a7be7dbb",
   "metadata": {},
   "outputs": [],
   "source": [
    "s.swapcase()"
   ]
  },
  {
   "cell_type": "code",
   "execution_count": null,
   "id": "5f9a57f6",
   "metadata": {},
   "outputs": [],
   "source": [
    "s.lower()"
   ]
  },
  {
   "cell_type": "code",
   "execution_count": null,
   "id": "3f2e06ff",
   "metadata": {},
   "outputs": [],
   "source": [
    "s.upper()"
   ]
  },
  {
   "cell_type": "code",
   "execution_count": null,
   "id": "b3397891",
   "metadata": {},
   "outputs": [],
   "source": [
    "s.title()"
   ]
  },
  {
   "cell_type": "code",
   "execution_count": null,
   "id": "96c3c42e",
   "metadata": {},
   "outputs": [],
   "source": [
    "s.capitalize()"
   ]
  },
  {
   "cell_type": "code",
   "execution_count": null,
   "id": "09801461",
   "metadata": {},
   "outputs": [],
   "source": [
    "s =\"python\""
   ]
  },
  {
   "cell_type": "code",
   "execution_count": null,
   "id": "32dd755b",
   "metadata": {},
   "outputs": [],
   "source": [
    "s.center(23,\"#\")"
   ]
  },
  {
   "cell_type": "code",
   "execution_count": null,
   "id": "1a0be3a3",
   "metadata": {},
   "outputs": [],
   "source": [
    "s.isalnum()"
   ]
  },
  {
   "cell_type": "code",
   "execution_count": null,
   "id": "a3f5e82f",
   "metadata": {},
   "outputs": [],
   "source": [
    "s.startswith(\"pyth\")"
   ]
  },
  {
   "cell_type": "code",
   "execution_count": null,
   "id": "e4a3d164",
   "metadata": {},
   "outputs": [],
   "source": [
    "s.endswith(\"pyth\")"
   ]
  },
  {
   "cell_type": "code",
   "execution_count": null,
   "id": "79b45e9f",
   "metadata": {},
   "outputs": [],
   "source": [
    "s.islower()"
   ]
  },
  {
   "cell_type": "code",
   "execution_count": null,
   "id": "d6fb50f2",
   "metadata": {},
   "outputs": [],
   "source": [
    "s.isnumeric()"
   ]
  },
  {
   "cell_type": "markdown",
   "id": "be3e255d",
   "metadata": {},
   "source": [
    "# Sets Method"
   ]
  },
  {
   "cell_type": "code",
   "execution_count": 1,
   "id": "661ef395",
   "metadata": {},
   "outputs": [],
   "source": [
    "s = \"python\""
   ]
  },
  {
   "cell_type": "code",
   "execution_count": 2,
   "id": "c43dc809",
   "metadata": {},
   "outputs": [
    {
     "data": {
      "text/plain": [
       "'python'"
      ]
     },
     "execution_count": 2,
     "metadata": {},
     "output_type": "execute_result"
    }
   ],
   "source": [
    "s"
   ]
  },
  {
   "cell_type": "code",
   "execution_count": 1,
   "id": "21e0cbcd",
   "metadata": {},
   "outputs": [],
   "source": [
    "s={10,20,15,48,10.5,\"python\",\"sam\"}"
   ]
  },
  {
   "cell_type": "code",
   "execution_count": 3,
   "id": "5c86fc92",
   "metadata": {},
   "outputs": [
    {
     "data": {
      "text/plain": [
       "{10, 10.5, 15, 20, 48, 'python', 'sam'}"
      ]
     },
     "execution_count": 3,
     "metadata": {},
     "output_type": "execute_result"
    }
   ],
   "source": [
    "s"
   ]
  },
  {
   "cell_type": "code",
   "execution_count": 4,
   "id": "b59cd160",
   "metadata": {},
   "outputs": [
    {
     "data": {
      "text/plain": [
       "set"
      ]
     },
     "execution_count": 4,
     "metadata": {},
     "output_type": "execute_result"
    }
   ],
   "source": [
    "type(s)"
   ]
  },
  {
   "cell_type": "code",
   "execution_count": 5,
   "id": "5cd4736d",
   "metadata": {},
   "outputs": [
    {
     "data": {
      "text/plain": [
       "7"
      ]
     },
     "execution_count": 5,
     "metadata": {},
     "output_type": "execute_result"
    }
   ],
   "source": [
    "len(s)"
   ]
  },
  {
   "cell_type": "code",
   "execution_count": 6,
   "id": "33b66d49",
   "metadata": {},
   "outputs": [],
   "source": [
    "s.add(41)"
   ]
  },
  {
   "cell_type": "code",
   "execution_count": 8,
   "id": "9e2912c9",
   "metadata": {},
   "outputs": [
    {
     "data": {
      "text/plain": [
       "{10, 10.5, 15, 20, 41, 48, 'python', 'sam'}"
      ]
     },
     "execution_count": 8,
     "metadata": {},
     "output_type": "execute_result"
    }
   ],
   "source": [
    "s"
   ]
  },
  {
   "cell_type": "code",
   "execution_count": 9,
   "id": "9d8421b0",
   "metadata": {},
   "outputs": [
    {
     "data": {
      "text/plain": [
       "{(1, 2, 3), 1, 2, 3}"
      ]
     },
     "execution_count": 9,
     "metadata": {},
     "output_type": "execute_result"
    }
   ],
   "source": [
    "s={1,2,3,(1,2,3)}\n",
    "s"
   ]
  },
  {
   "cell_type": "code",
   "execution_count": 10,
   "id": "eca2b3fb",
   "metadata": {},
   "outputs": [],
   "source": [
    "s={1,2,30}\n",
    "s1={10,22,33}"
   ]
  },
  {
   "cell_type": "code",
   "execution_count": 11,
   "id": "c1b3b8ab",
   "metadata": {},
   "outputs": [],
   "source": [
    "s.update(s1)"
   ]
  },
  {
   "cell_type": "code",
   "execution_count": 12,
   "id": "84cce4c4",
   "metadata": {},
   "outputs": [
    {
     "data": {
      "text/plain": [
       "{1, 2, 10, 22, 30, 33}"
      ]
     },
     "execution_count": 12,
     "metadata": {},
     "output_type": "execute_result"
    }
   ],
   "source": [
    "s"
   ]
  },
  {
   "cell_type": "code",
   "execution_count": 13,
   "id": "01e6864e",
   "metadata": {},
   "outputs": [
    {
     "data": {
      "text/plain": [
       "{1, 2, 10, 22, 30, 33}"
      ]
     },
     "execution_count": 13,
     "metadata": {},
     "output_type": "execute_result"
    }
   ],
   "source": [
    "s2=s.copy()\n",
    "s2"
   ]
  },
  {
   "cell_type": "code",
   "execution_count": 15,
   "id": "c794b0e3",
   "metadata": {},
   "outputs": [
    {
     "data": {
      "text/plain": [
       "1"
      ]
     },
     "execution_count": 15,
     "metadata": {},
     "output_type": "execute_result"
    }
   ],
   "source": [
    "s.pop()"
   ]
  },
  {
   "cell_type": "code",
   "execution_count": 16,
   "id": "f286c02b",
   "metadata": {},
   "outputs": [
    {
     "data": {
      "text/plain": [
       "{2, 10, 22, 30, 33}"
      ]
     },
     "execution_count": 16,
     "metadata": {},
     "output_type": "execute_result"
    }
   ],
   "source": [
    "s"
   ]
  },
  {
   "cell_type": "code",
   "execution_count": 18,
   "id": "d6cc3d04",
   "metadata": {},
   "outputs": [],
   "source": [
    "s.remove(10) "
   ]
  },
  {
   "cell_type": "code",
   "execution_count": 28,
   "id": "c5570c35",
   "metadata": {},
   "outputs": [
    {
     "data": {
      "text/plain": [
       "{22, 30, 33}"
      ]
     },
     "execution_count": 28,
     "metadata": {},
     "output_type": "execute_result"
    }
   ],
   "source": [
    "s"
   ]
  },
  {
   "cell_type": "code",
   "execution_count": 29,
   "id": "3b89e162",
   "metadata": {},
   "outputs": [],
   "source": [
    "s.discard(11) #we use discard for no error"
   ]
  },
  {
   "cell_type": "code",
   "execution_count": 30,
   "id": "19f84139",
   "metadata": {},
   "outputs": [
    {
     "data": {
      "text/plain": [
       "{22, 30, 33}"
      ]
     },
     "execution_count": 30,
     "metadata": {},
     "output_type": "execute_result"
    }
   ],
   "source": [
    "s"
   ]
  },
  {
   "cell_type": "code",
   "execution_count": 32,
   "id": "5fbc8a5b",
   "metadata": {},
   "outputs": [],
   "source": [
    "s.clear()"
   ]
  },
  {
   "cell_type": "code",
   "execution_count": 40,
   "id": "af4088c1",
   "metadata": {},
   "outputs": [
    {
     "data": {
      "text/plain": [
       "set()"
      ]
     },
     "execution_count": 40,
     "metadata": {},
     "output_type": "execute_result"
    }
   ],
   "source": [
    "s"
   ]
  },
  {
   "cell_type": "code",
   "execution_count": 42,
   "id": "9056ecb1",
   "metadata": {},
   "outputs": [],
   "source": [
    "s={1,2,3,4,44,55,66}\n",
    "s1={3,4,44,11,22,33}"
   ]
  },
  {
   "cell_type": "code",
   "execution_count": 43,
   "id": "098ffd08",
   "metadata": {},
   "outputs": [
    {
     "data": {
      "text/plain": [
       "{3, 4, 44}"
      ]
     },
     "execution_count": 43,
     "metadata": {},
     "output_type": "execute_result"
    }
   ],
   "source": [
    "s.intersection(s1)"
   ]
  },
  {
   "cell_type": "code",
   "execution_count": 44,
   "id": "49687ca4",
   "metadata": {},
   "outputs": [
    {
     "data": {
      "text/plain": [
       "{1, 2, 3, 4, 11, 22, 33, 44, 55, 66}"
      ]
     },
     "execution_count": 44,
     "metadata": {},
     "output_type": "execute_result"
    }
   ],
   "source": [
    "s.union(s1)"
   ]
  },
  {
   "cell_type": "code",
   "execution_count": 46,
   "id": "a58af018",
   "metadata": {},
   "outputs": [
    {
     "data": {
      "text/plain": [
       "{1, 2, 55, 66}"
      ]
     },
     "execution_count": 46,
     "metadata": {},
     "output_type": "execute_result"
    }
   ],
   "source": [
    "s.difference(s1)"
   ]
  },
  {
   "cell_type": "code",
   "execution_count": 47,
   "id": "02876e21",
   "metadata": {},
   "outputs": [
    {
     "data": {
      "text/plain": [
       "{11, 22, 33}"
      ]
     },
     "execution_count": 47,
     "metadata": {},
     "output_type": "execute_result"
    }
   ],
   "source": [
    "s1.difference(s)"
   ]
  },
  {
   "cell_type": "code",
   "execution_count": 48,
   "id": "7e71d28c",
   "metadata": {},
   "outputs": [
    {
     "data": {
      "text/plain": [
       "{1, 2, 11, 22, 33, 55, 66}"
      ]
     },
     "execution_count": 48,
     "metadata": {},
     "output_type": "execute_result"
    }
   ],
   "source": [
    "s.symmetric_difference(s1)"
   ]
  },
  {
   "cell_type": "code",
   "execution_count": 49,
   "id": "272797bf",
   "metadata": {},
   "outputs": [
    {
     "data": {
      "text/plain": [
       "{1, 2, 3, 4, 44, 55, 66}"
      ]
     },
     "execution_count": 49,
     "metadata": {},
     "output_type": "execute_result"
    }
   ],
   "source": [
    "s"
   ]
  },
  {
   "cell_type": "code",
   "execution_count": 50,
   "id": "dfee01cc",
   "metadata": {},
   "outputs": [
    {
     "data": {
      "text/plain": [
       "True"
      ]
     },
     "execution_count": 50,
     "metadata": {},
     "output_type": "execute_result"
    }
   ],
   "source": [
    "3 in s"
   ]
  },
  {
   "cell_type": "code",
   "execution_count": 51,
   "id": "b591b339",
   "metadata": {},
   "outputs": [
    {
     "data": {
      "text/plain": [
       "True"
      ]
     },
     "execution_count": 51,
     "metadata": {},
     "output_type": "execute_result"
    }
   ],
   "source": [
    "33 not in s"
   ]
  },
  {
   "cell_type": "markdown",
   "id": "7d7bd30b",
   "metadata": {},
   "source": [
    "# List Methods"
   ]
  },
  {
   "cell_type": "code",
   "execution_count": 2,
   "id": "55df9802",
   "metadata": {},
   "outputs": [],
   "source": [
    " l=[10,20,30,10,20,30,\"python\",50,60,10,10,20]"
   ]
  },
  {
   "cell_type": "code",
   "execution_count": 3,
   "id": "c2344744",
   "metadata": {},
   "outputs": [
    {
     "data": {
      "text/plain": [
       "[10, 20, 30, 10, 20, 30, 'python', 50, 60, 10, 10, 20]"
      ]
     },
     "execution_count": 3,
     "metadata": {},
     "output_type": "execute_result"
    }
   ],
   "source": [
    "l"
   ]
  },
  {
   "cell_type": "code",
   "execution_count": 55,
   "id": "3c23dba9",
   "metadata": {},
   "outputs": [
    {
     "data": {
      "text/plain": [
       "int"
      ]
     },
     "execution_count": 55,
     "metadata": {},
     "output_type": "execute_result"
    }
   ],
   "source": [
    "type(1)"
   ]
  },
  {
   "cell_type": "code",
   "execution_count": 56,
   "id": "262b3fb0",
   "metadata": {},
   "outputs": [
    {
     "data": {
      "text/plain": [
       "[10, 20, 30, 10, 20, 30, 'python', 50, 60]"
      ]
     },
     "execution_count": 56,
     "metadata": {},
     "output_type": "execute_result"
    }
   ],
   "source": [
    "l[0:9]"
   ]
  },
  {
   "cell_type": "code",
   "execution_count": 57,
   "id": "87ce2adc",
   "metadata": {},
   "outputs": [
    {
     "data": {
      "text/plain": [
       "[20, 10, 10, 60, 50, 'python', 30]"
      ]
     },
     "execution_count": 57,
     "metadata": {},
     "output_type": "execute_result"
    }
   ],
   "source": [
    "l[-1:-8:-1]"
   ]
  },
  {
   "cell_type": "code",
   "execution_count": 13,
   "id": "9c9fe0b9",
   "metadata": {},
   "outputs": [],
   "source": [
    "l=[10,20,30,10,20,30,50,60,10,10,20]"
   ]
  },
  {
   "cell_type": "code",
   "execution_count": 14,
   "id": "a48cdf9b",
   "metadata": {},
   "outputs": [
    {
     "data": {
      "text/plain": [
       "10"
      ]
     },
     "execution_count": 14,
     "metadata": {},
     "output_type": "execute_result"
    }
   ],
   "source": [
    "min(l)"
   ]
  },
  {
   "cell_type": "code",
   "execution_count": 15,
   "id": "57166e10",
   "metadata": {},
   "outputs": [
    {
     "data": {
      "text/plain": [
       "60"
      ]
     },
     "execution_count": 15,
     "metadata": {},
     "output_type": "execute_result"
    }
   ],
   "source": [
    "max(l)"
   ]
  },
  {
   "cell_type": "code",
   "execution_count": 16,
   "id": "e596b3d2",
   "metadata": {},
   "outputs": [],
   "source": [
    "l1 = [\"python\",\"c\",\"c++\",\"java\"]"
   ]
  },
  {
   "cell_type": "code",
   "execution_count": 17,
   "id": "9613a37b",
   "metadata": {},
   "outputs": [
    {
     "data": {
      "text/plain": [
       "'c'"
      ]
     },
     "execution_count": 17,
     "metadata": {},
     "output_type": "execute_result"
    }
   ],
   "source": [
    "min(l1)"
   ]
  },
  {
   "cell_type": "code",
   "execution_count": 18,
   "id": "dd1fb86e",
   "metadata": {},
   "outputs": [
    {
     "data": {
      "text/plain": [
       "'python'"
      ]
     },
     "execution_count": 18,
     "metadata": {},
     "output_type": "execute_result"
    }
   ],
   "source": [
    "max(l1)"
   ]
  },
  {
   "cell_type": "code",
   "execution_count": 19,
   "id": "e410f24b",
   "metadata": {},
   "outputs": [
    {
     "data": {
      "text/plain": [
       "[10, 20, 30, 10, 20, 30, 50, 60, 10, 10, 20]"
      ]
     },
     "execution_count": 19,
     "metadata": {},
     "output_type": "execute_result"
    }
   ],
   "source": [
    "l"
   ]
  },
  {
   "cell_type": "code",
   "execution_count": 20,
   "id": "8d9fbb8e",
   "metadata": {},
   "outputs": [],
   "source": [
    "l[3] = 15"
   ]
  },
  {
   "cell_type": "code",
   "execution_count": 21,
   "id": "d09f33e4",
   "metadata": {},
   "outputs": [
    {
     "data": {
      "text/plain": [
       "[10, 20, 30, 15, 20, 30, 50, 60, 10, 10, 20]"
      ]
     },
     "execution_count": 21,
     "metadata": {},
     "output_type": "execute_result"
    }
   ],
   "source": [
    "l"
   ]
  },
  {
   "cell_type": "code",
   "execution_count": 22,
   "id": "0aaa7812",
   "metadata": {},
   "outputs": [],
   "source": [
    "l.insert(2,111)"
   ]
  },
  {
   "cell_type": "code",
   "execution_count": 23,
   "id": "29e8f600",
   "metadata": {},
   "outputs": [
    {
     "data": {
      "text/plain": [
       "[10, 20, 111, 30, 15, 20, 30, 50, 60, 10, 10, 20]"
      ]
     },
     "execution_count": 23,
     "metadata": {},
     "output_type": "execute_result"
    }
   ],
   "source": [
    "l"
   ]
  },
  {
   "cell_type": "code",
   "execution_count": 24,
   "id": "93ee4cd3",
   "metadata": {},
   "outputs": [
    {
     "data": {
      "text/plain": [
       "3"
      ]
     },
     "execution_count": 24,
     "metadata": {},
     "output_type": "execute_result"
    }
   ],
   "source": [
    "l.index(30)"
   ]
  },
  {
   "cell_type": "code",
   "execution_count": 25,
   "id": "649b8c1c",
   "metadata": {},
   "outputs": [
    {
     "data": {
      "text/plain": [
       "[10, 20, 111, 30, 15, 20, 30, 50, 60, 10, 10, 20]"
      ]
     },
     "execution_count": 25,
     "metadata": {},
     "output_type": "execute_result"
    }
   ],
   "source": [
    "l"
   ]
  },
  {
   "cell_type": "code",
   "execution_count": 26,
   "id": "4a5a1ac3",
   "metadata": {},
   "outputs": [],
   "source": [
    "l.append(121)"
   ]
  },
  {
   "cell_type": "code",
   "execution_count": 27,
   "id": "3e9dbfbc",
   "metadata": {},
   "outputs": [
    {
     "data": {
      "text/plain": [
       "[10, 20, 111, 30, 15, 20, 30, 50, 60, 10, 10, 20, 121]"
      ]
     },
     "execution_count": 27,
     "metadata": {},
     "output_type": "execute_result"
    }
   ],
   "source": [
    "l"
   ]
  },
  {
   "cell_type": "code",
   "execution_count": 28,
   "id": "d308a396",
   "metadata": {},
   "outputs": [
    {
     "data": {
      "text/plain": [
       "[10, 20, 111, 30, 15, 20, 30, 50, 60, 10, 10, 20, 121]"
      ]
     },
     "execution_count": 28,
     "metadata": {},
     "output_type": "execute_result"
    }
   ],
   "source": [
    "l"
   ]
  },
  {
   "cell_type": "code",
   "execution_count": 29,
   "id": "ae58fc2c",
   "metadata": {},
   "outputs": [],
   "source": [
    "l1 = [1,1,2,3]"
   ]
  },
  {
   "cell_type": "code",
   "execution_count": 30,
   "id": "f96188be",
   "metadata": {},
   "outputs": [
    {
     "data": {
      "text/plain": [
       "[1, 1, 2, 3]"
      ]
     },
     "execution_count": 30,
     "metadata": {},
     "output_type": "execute_result"
    }
   ],
   "source": [
    "l1"
   ]
  },
  {
   "cell_type": "code",
   "execution_count": 31,
   "id": "d2dae832",
   "metadata": {},
   "outputs": [],
   "source": [
    "l.extend(l1)"
   ]
  },
  {
   "cell_type": "code",
   "execution_count": 32,
   "id": "2db1c768",
   "metadata": {},
   "outputs": [
    {
     "data": {
      "text/plain": [
       "[10, 20, 111, 30, 15, 20, 30, 50, 60, 10, 10, 20, 121, 1, 1, 2, 3]"
      ]
     },
     "execution_count": 32,
     "metadata": {},
     "output_type": "execute_result"
    }
   ],
   "source": [
    "l"
   ]
  },
  {
   "cell_type": "code",
   "execution_count": 33,
   "id": "704ffb16",
   "metadata": {},
   "outputs": [
    {
     "data": {
      "text/plain": [
       "3"
      ]
     },
     "execution_count": 33,
     "metadata": {},
     "output_type": "execute_result"
    }
   ],
   "source": [
    "l.pop()"
   ]
  },
  {
   "cell_type": "code",
   "execution_count": 34,
   "id": "6e7afb87",
   "metadata": {},
   "outputs": [
    {
     "data": {
      "text/plain": [
       "[10, 20, 111, 30, 15, 20, 30, 50, 60, 10, 10, 20, 121, 1, 1, 2]"
      ]
     },
     "execution_count": 34,
     "metadata": {},
     "output_type": "execute_result"
    }
   ],
   "source": [
    "l"
   ]
  },
  {
   "cell_type": "code",
   "execution_count": 35,
   "id": "9a3c0edd",
   "metadata": {},
   "outputs": [],
   "source": [
    "l.remove(20)"
   ]
  },
  {
   "cell_type": "code",
   "execution_count": 36,
   "id": "a9d29c54",
   "metadata": {},
   "outputs": [
    {
     "data": {
      "text/plain": [
       "[10, 111, 30, 15, 20, 30, 50, 60, 10, 10, 20, 121, 1, 1, 2]"
      ]
     },
     "execution_count": 36,
     "metadata": {},
     "output_type": "execute_result"
    }
   ],
   "source": [
    "l"
   ]
  },
  {
   "cell_type": "code",
   "execution_count": 37,
   "id": "d0f18c99",
   "metadata": {},
   "outputs": [
    {
     "data": {
      "text/plain": [
       "[2, 1, 1, 121, 20, 10, 10, 60, 50, 30, 20, 15, 30, 111, 10]"
      ]
     },
     "execution_count": 37,
     "metadata": {},
     "output_type": "execute_result"
    }
   ],
   "source": [
    "l.reverse()\n",
    "l"
   ]
  },
  {
   "cell_type": "code",
   "execution_count": 38,
   "id": "eccfcf14",
   "metadata": {},
   "outputs": [
    {
     "data": {
      "text/plain": [
       "[121, 111, 60, 50, 30, 30, 20, 20, 15, 10, 10, 10, 2, 1, 1]"
      ]
     },
     "execution_count": 38,
     "metadata": {},
     "output_type": "execute_result"
    }
   ],
   "source": [
    "l.sort()\n",
    "l.reverse()\n",
    "l"
   ]
  },
  {
   "cell_type": "code",
   "execution_count": 39,
   "id": "314a686f",
   "metadata": {},
   "outputs": [
    {
     "data": {
      "text/plain": [
       "[121, 111, 60, 50, 30, 30, 20, 20, 15, 10, 10, 10, 2, 1, 1]"
      ]
     },
     "execution_count": 39,
     "metadata": {},
     "output_type": "execute_result"
    }
   ],
   "source": [
    "l.sort(reverse = True)\n",
    "l"
   ]
  },
  {
   "cell_type": "code",
   "execution_count": 40,
   "id": "ec304916",
   "metadata": {},
   "outputs": [],
   "source": [
    "l2 = l.copy()"
   ]
  },
  {
   "cell_type": "code",
   "execution_count": 41,
   "id": "bfe696a5",
   "metadata": {},
   "outputs": [
    {
     "data": {
      "text/plain": [
       "[121, 111, 60, 50, 30, 30, 20, 20, 15, 10, 10, 10, 2, 1, 1]"
      ]
     },
     "execution_count": 41,
     "metadata": {},
     "output_type": "execute_result"
    }
   ],
   "source": [
    "l2"
   ]
  },
  {
   "cell_type": "code",
   "execution_count": 42,
   "id": "3b857fac",
   "metadata": {},
   "outputs": [
    {
     "data": {
      "text/plain": [
       "[121, 111, 60, 50, 30, 30, 20, 20, 15, 10, 10, 10, 2, 1, 1]"
      ]
     },
     "execution_count": 42,
     "metadata": {},
     "output_type": "execute_result"
    }
   ],
   "source": [
    "l"
   ]
  },
  {
   "cell_type": "code",
   "execution_count": 45,
   "id": "467010db",
   "metadata": {},
   "outputs": [
    {
     "data": {
      "text/plain": [
       "4"
      ]
     },
     "execution_count": 45,
     "metadata": {},
     "output_type": "execute_result"
    }
   ],
   "source": [
    "l.index(30)"
   ]
  },
  {
   "cell_type": "code",
   "execution_count": 46,
   "id": "d933f480",
   "metadata": {},
   "outputs": [
    {
     "data": {
      "text/plain": [
       "[121, 111, 60, 50, 30, 30, 20, 20, 15, 10, 10, 10, 2, 1, 1]"
      ]
     },
     "execution_count": 46,
     "metadata": {},
     "output_type": "execute_result"
    }
   ],
   "source": [
    "l"
   ]
  },
  {
   "cell_type": "code",
   "execution_count": 48,
   "id": "4c1451b2",
   "metadata": {},
   "outputs": [],
   "source": [
    "l.append(121)"
   ]
  },
  {
   "cell_type": "code",
   "execution_count": 49,
   "id": "9c9027a2",
   "metadata": {},
   "outputs": [
    {
     "data": {
      "text/plain": [
       "[121, 111, 60, 50, 30, 30, 20, 20, 15, 10, 10, 10, 2, 1, 1, 121]"
      ]
     },
     "execution_count": 49,
     "metadata": {},
     "output_type": "execute_result"
    }
   ],
   "source": [
    "l"
   ]
  },
  {
   "cell_type": "code",
   "execution_count": 55,
   "id": "67c3e474",
   "metadata": {},
   "outputs": [],
   "source": [
    "l.extend(l1)"
   ]
  },
  {
   "cell_type": "code",
   "execution_count": 56,
   "id": "bf2a50b5",
   "metadata": {},
   "outputs": [
    {
     "data": {
      "text/plain": [
       "[1, 1, 2, 3]"
      ]
     },
     "execution_count": 56,
     "metadata": {},
     "output_type": "execute_result"
    }
   ],
   "source": [
    "l1"
   ]
  },
  {
   "cell_type": "code",
   "execution_count": 59,
   "id": "13f1b165",
   "metadata": {},
   "outputs": [
    {
     "data": {
      "text/plain": [
       "2"
      ]
     },
     "execution_count": 59,
     "metadata": {},
     "output_type": "execute_result"
    }
   ],
   "source": [
    "l.pop()"
   ]
  },
  {
   "cell_type": "code",
   "execution_count": 63,
   "id": "ff3055fb",
   "metadata": {},
   "outputs": [],
   "source": [
    "l.remove(10)"
   ]
  },
  {
   "cell_type": "code",
   "execution_count": 64,
   "id": "f79efafb",
   "metadata": {},
   "outputs": [
    {
     "data": {
      "text/plain": [
       "[121, 111, 60, 50, 30, 30, 20, 20, 15, 10, 2, 1, 1, 121, 121, 1, 1, 2, 3, 1, 1]"
      ]
     },
     "execution_count": 64,
     "metadata": {},
     "output_type": "execute_result"
    }
   ],
   "source": [
    "l"
   ]
  },
  {
   "cell_type": "code",
   "execution_count": 65,
   "id": "0e6e8aa0",
   "metadata": {},
   "outputs": [
    {
     "data": {
      "text/plain": [
       "[121, 111, 60, 50, 30, 30, 20, 20, 15, 10, 2, 1, 1, 121, 121, 1, 1, 2, 3, 1, 1]"
      ]
     },
     "execution_count": 65,
     "metadata": {},
     "output_type": "execute_result"
    }
   ],
   "source": [
    "l"
   ]
  },
  {
   "cell_type": "code",
   "execution_count": 67,
   "id": "89ce8863",
   "metadata": {},
   "outputs": [],
   "source": [
    "l.reverse()"
   ]
  },
  {
   "cell_type": "code",
   "execution_count": 68,
   "id": "53bc3386",
   "metadata": {},
   "outputs": [
    {
     "data": {
      "text/plain": [
       "[1, 1, 3, 2, 1, 1, 121, 121, 1, 1, 2, 10, 15, 20, 20, 30, 30, 50, 60, 111, 121]"
      ]
     },
     "execution_count": 68,
     "metadata": {},
     "output_type": "execute_result"
    }
   ],
   "source": [
    "l"
   ]
  },
  {
   "cell_type": "code",
   "execution_count": 69,
   "id": "5b2894a2",
   "metadata": {},
   "outputs": [
    {
     "data": {
      "text/plain": [
       "[121, 121, 121, 111, 60, 50, 30, 30, 20, 20, 15, 10, 3, 2, 2, 1, 1, 1, 1, 1, 1]"
      ]
     },
     "execution_count": 69,
     "metadata": {},
     "output_type": "execute_result"
    }
   ],
   "source": [
    "l.sort()\n",
    "l.reverse()\n",
    "l"
   ]
  },
  {
   "cell_type": "code",
   "execution_count": 78,
   "id": "c73a6dc2",
   "metadata": {},
   "outputs": [
    {
     "data": {
      "text/plain": [
       "[]"
      ]
     },
     "execution_count": 78,
     "metadata": {},
     "output_type": "execute_result"
    }
   ],
   "source": [
    "l.sort(reverse = True)\n",
    "l"
   ]
  },
  {
   "cell_type": "markdown",
   "id": "1da2c9ae",
   "metadata": {},
   "source": [
    "# Tuple Methods"
   ]
  },
  {
   "cell_type": "code",
   "execution_count": 81,
   "id": "59fb0739",
   "metadata": {},
   "outputs": [],
   "source": [
    "t=(10,20,20.5,\"python\")"
   ]
  },
  {
   "cell_type": "code",
   "execution_count": 82,
   "id": "22b77281",
   "metadata": {},
   "outputs": [
    {
     "data": {
      "text/plain": [
       "(10, 20, 20.5, 'python')"
      ]
     },
     "execution_count": 82,
     "metadata": {},
     "output_type": "execute_result"
    }
   ],
   "source": [
    "t"
   ]
  },
  {
   "cell_type": "code",
   "execution_count": 84,
   "id": "59814713",
   "metadata": {},
   "outputs": [
    {
     "data": {
      "text/plain": [
       "4"
      ]
     },
     "execution_count": 84,
     "metadata": {},
     "output_type": "execute_result"
    }
   ],
   "source": [
    "len(t)"
   ]
  },
  {
   "cell_type": "code",
   "execution_count": 88,
   "id": "1693c937",
   "metadata": {},
   "outputs": [
    {
     "data": {
      "text/plain": [
       "20"
      ]
     },
     "execution_count": 88,
     "metadata": {},
     "output_type": "execute_result"
    }
   ],
   "source": [
    "t[1]"
   ]
  },
  {
   "cell_type": "code",
   "execution_count": 89,
   "id": "615ba9a7",
   "metadata": {},
   "outputs": [
    {
     "data": {
      "text/plain": [
       "(10, 20, 20.5, 'python')"
      ]
     },
     "execution_count": 89,
     "metadata": {},
     "output_type": "execute_result"
    }
   ],
   "source": [
    "t[0:5]"
   ]
  },
  {
   "cell_type": "code",
   "execution_count": 91,
   "id": "687faa61",
   "metadata": {},
   "outputs": [
    {
     "data": {
      "text/plain": [
       "1"
      ]
     },
     "execution_count": 91,
     "metadata": {},
     "output_type": "execute_result"
    }
   ],
   "source": [
    "t.index(20)"
   ]
  },
  {
   "cell_type": "code",
   "execution_count": 107,
   "id": "d9f67d63",
   "metadata": {},
   "outputs": [],
   "source": [
    "\n",
    "t =(10,)"
   ]
  },
  {
   "cell_type": "code",
   "execution_count": 93,
   "id": "23ce284d",
   "metadata": {},
   "outputs": [
    {
     "data": {
      "text/plain": [
       "1"
      ]
     },
     "execution_count": 93,
     "metadata": {},
     "output_type": "execute_result"
    }
   ],
   "source": [
    "t.count(10)"
   ]
  },
  {
   "cell_type": "code",
   "execution_count": 94,
   "id": "b85d0863",
   "metadata": {},
   "outputs": [
    {
     "data": {
      "text/plain": [
       "0"
      ]
     },
     "execution_count": 94,
     "metadata": {},
     "output_type": "execute_result"
    }
   ],
   "source": [
    "t.count(123)"
   ]
  },
  {
   "cell_type": "code",
   "execution_count": 99,
   "id": "b811bdec",
   "metadata": {},
   "outputs": [
    {
     "data": {
      "text/plain": [
       "(10, 20, 20.5, 30, 203, 33, 45)"
      ]
     },
     "execution_count": 99,
     "metadata": {},
     "output_type": "execute_result"
    }
   ],
   "source": [
    "t=(10,20,20.5,30,203,33,45)\n",
    "t"
   ]
  },
  {
   "cell_type": "code",
   "execution_count": 101,
   "id": "8b7a64fb",
   "metadata": {},
   "outputs": [
    {
     "data": {
      "text/plain": [
       "[10, 20, 20.5, 30, 33, 45, 203]"
      ]
     },
     "execution_count": 101,
     "metadata": {},
     "output_type": "execute_result"
    }
   ],
   "source": [
    "sorted(t) #touple ko chnage nahi kar sakate kiya to type list hota"
   ]
  },
  {
   "cell_type": "code",
   "execution_count": 105,
   "id": "b00c45c2",
   "metadata": {},
   "outputs": [
    {
     "data": {
      "text/plain": [
       "[10, 20, 20.5, 30, 33, 45, 203]"
      ]
     },
     "execution_count": 105,
     "metadata": {},
     "output_type": "execute_result"
    }
   ],
   "source": [
    "ab = sorted(t)\n",
    "ab"
   ]
  },
  {
   "cell_type": "code",
   "execution_count": 106,
   "id": "bc1f05dd",
   "metadata": {},
   "outputs": [
    {
     "data": {
      "text/plain": [
       "list"
      ]
     },
     "execution_count": 106,
     "metadata": {},
     "output_type": "execute_result"
    }
   ],
   "source": [
    "type(ab)"
   ]
  },
  {
   "cell_type": "code",
   "execution_count": 108,
   "id": "41deb800",
   "metadata": {},
   "outputs": [
    {
     "data": {
      "text/plain": [
       "10"
      ]
     },
     "execution_count": 108,
     "metadata": {},
     "output_type": "execute_result"
    }
   ],
   "source": [
    "min(t)"
   ]
  },
  {
   "cell_type": "code",
   "execution_count": 109,
   "id": "577004b0",
   "metadata": {},
   "outputs": [
    {
     "data": {
      "text/plain": [
       "10"
      ]
     },
     "execution_count": 109,
     "metadata": {},
     "output_type": "execute_result"
    }
   ],
   "source": [
    "max(t)"
   ]
  },
  {
   "cell_type": "markdown",
   "id": "6e673e1b",
   "metadata": {},
   "source": [
    "# Dictionary\n"
   ]
  },
  {
   "cell_type": "code",
   "execution_count": 114,
   "id": "05810f6e",
   "metadata": {},
   "outputs": [
    {
     "data": {
      "text/plain": [
       "dict"
      ]
     },
     "execution_count": 114,
     "metadata": {},
     "output_type": "execute_result"
    }
   ],
   "source": [
    "d = {\"key\":'value',\"name\":\"asdf\",\"contact\":12345}\n",
    "type(d)"
   ]
  },
  {
   "cell_type": "code",
   "execution_count": 115,
   "id": "7f97deb8",
   "metadata": {},
   "outputs": [
    {
     "data": {
      "text/plain": [
       "3"
      ]
     },
     "execution_count": 115,
     "metadata": {},
     "output_type": "execute_result"
    }
   ],
   "source": [
    "len(d)"
   ]
  },
  {
   "cell_type": "code",
   "execution_count": 116,
   "id": "92d49e41",
   "metadata": {},
   "outputs": [
    {
     "data": {
      "text/plain": [
       "12345"
      ]
     },
     "execution_count": 116,
     "metadata": {},
     "output_type": "execute_result"
    }
   ],
   "source": [
    "d[\"contact\"]"
   ]
  },
  {
   "cell_type": "code",
   "execution_count": 119,
   "id": "b927bc6a",
   "metadata": {},
   "outputs": [],
   "source": [
    "d.get(\"age\")"
   ]
  },
  {
   "cell_type": "code",
   "execution_count": 120,
   "id": "661ad668",
   "metadata": {},
   "outputs": [
    {
     "data": {
      "text/plain": [
       "{'key': 'value', 'name': 'asdf', 'contact': 12345}"
      ]
     },
     "execution_count": 120,
     "metadata": {},
     "output_type": "execute_result"
    }
   ],
   "source": [
    "d"
   ]
  },
  {
   "cell_type": "code",
   "execution_count": 121,
   "id": "70d6cf9d",
   "metadata": {},
   "outputs": [],
   "source": [
    "d = {\"key\":'value',\"name\":\"asdf\",\"contact\":12345}"
   ]
  },
  {
   "cell_type": "code",
   "execution_count": 123,
   "id": "0e6a9949",
   "metadata": {},
   "outputs": [
    {
     "data": {
      "text/plain": [
       "True"
      ]
     },
     "execution_count": 123,
     "metadata": {},
     "output_type": "execute_result"
    }
   ],
   "source": [
    "'value' in d['key']"
   ]
  },
  {
   "cell_type": "code",
   "execution_count": 126,
   "id": "0922de2c",
   "metadata": {},
   "outputs": [],
   "source": [
    "d['name'] = \"lkjh\""
   ]
  },
  {
   "cell_type": "code",
   "execution_count": 127,
   "id": "06f59c79",
   "metadata": {},
   "outputs": [
    {
     "data": {
      "text/plain": [
       "{'key': 'value', 'name': 'lkjh', 'contact': 12345}"
      ]
     },
     "execution_count": 127,
     "metadata": {},
     "output_type": "execute_result"
    }
   ],
   "source": [
    "d"
   ]
  },
  {
   "cell_type": "code",
   "execution_count": 128,
   "id": "2bf95f07",
   "metadata": {},
   "outputs": [],
   "source": [
    "d['age']= 25"
   ]
  },
  {
   "cell_type": "code",
   "execution_count": 129,
   "id": "221f9f61",
   "metadata": {},
   "outputs": [
    {
     "data": {
      "text/plain": [
       "{'key': 'value', 'name': 'lkjh', 'contact': 12345, 'age': 25}"
      ]
     },
     "execution_count": 129,
     "metadata": {},
     "output_type": "execute_result"
    }
   ],
   "source": [
    "d"
   ]
  },
  {
   "cell_type": "code",
   "execution_count": 130,
   "id": "2c9bbb8e",
   "metadata": {},
   "outputs": [],
   "source": [
    "d = {\"key\":'value',\"name\":\"asdf\",'skills':{\"DS\":\"python\",\"web\":\"HTML\"}}"
   ]
  },
  {
   "cell_type": "code",
   "execution_count": 132,
   "id": "f9c92976",
   "metadata": {},
   "outputs": [
    {
     "data": {
      "text/plain": [
       "'asdf'"
      ]
     },
     "execution_count": 132,
     "metadata": {},
     "output_type": "execute_result"
    }
   ],
   "source": [
    "d[\"name\"]"
   ]
  },
  {
   "cell_type": "code",
   "execution_count": 133,
   "id": "59d03170",
   "metadata": {},
   "outputs": [
    {
     "data": {
      "text/plain": [
       "'python'"
      ]
     },
     "execution_count": 133,
     "metadata": {},
     "output_type": "execute_result"
    }
   ],
   "source": [
    "d[\"skills\"][\"DS\"]"
   ]
  },
  {
   "cell_type": "code",
   "execution_count": 134,
   "id": "c9166b59",
   "metadata": {},
   "outputs": [
    {
     "data": {
      "text/plain": [
       "3"
      ]
     },
     "execution_count": 134,
     "metadata": {},
     "output_type": "execute_result"
    }
   ],
   "source": [
    "len(d)"
   ]
  },
  {
   "cell_type": "code",
   "execution_count": 135,
   "id": "825f011b",
   "metadata": {},
   "outputs": [
    {
     "data": {
      "text/plain": [
       "dict_keys(['key', 'name', 'skills'])"
      ]
     },
     "execution_count": 135,
     "metadata": {},
     "output_type": "execute_result"
    }
   ],
   "source": [
    "d.keys()"
   ]
  },
  {
   "cell_type": "code",
   "execution_count": 136,
   "id": "5d977ae6",
   "metadata": {},
   "outputs": [
    {
     "data": {
      "text/plain": [
       "dict_values(['value', 'asdf', {'DS': 'python', 'web': 'HTML'}])"
      ]
     },
     "execution_count": 136,
     "metadata": {},
     "output_type": "execute_result"
    }
   ],
   "source": [
    "d.values()"
   ]
  },
  {
   "cell_type": "code",
   "execution_count": 138,
   "id": "d63dbf74",
   "metadata": {},
   "outputs": [
    {
     "data": {
      "text/plain": [
       "{'DS': 'python', 'web': 'HTML'}"
      ]
     },
     "execution_count": 138,
     "metadata": {},
     "output_type": "execute_result"
    }
   ],
   "source": [
    "d.pop(\"skills\")"
   ]
  },
  {
   "cell_type": "code",
   "execution_count": 140,
   "id": "0934b489",
   "metadata": {},
   "outputs": [
    {
     "data": {
      "text/plain": [
       "('name', 'asdf')"
      ]
     },
     "execution_count": 140,
     "metadata": {},
     "output_type": "execute_result"
    }
   ],
   "source": [
    "d.popitem()#last item remove"
   ]
  },
  {
   "cell_type": "code",
   "execution_count": 141,
   "id": "33f0c9fb",
   "metadata": {},
   "outputs": [
    {
     "data": {
      "text/plain": [
       "{'key': 'value'}"
      ]
     },
     "execution_count": 141,
     "metadata": {},
     "output_type": "execute_result"
    }
   ],
   "source": [
    "d"
   ]
  },
  {
   "cell_type": "markdown",
   "id": "eebda366",
   "metadata": {},
   "source": [
    "# Conditional Statement"
   ]
  },
  {
   "cell_type": "code",
   "execution_count": 144,
   "id": "f88e0bd7",
   "metadata": {},
   "outputs": [
    {
     "name": "stdout",
     "output_type": "stream",
     "text": [
      "N is positive no\n"
     ]
    }
   ],
   "source": [
    " n = 10\n",
    "if n>0:\n",
    "        print(\"N is positive no\")\n",
    "else:\n",
    "        print(\"N is negative no\")"
   ]
  },
  {
   "cell_type": "code",
   "execution_count": 150,
   "id": "21df633a",
   "metadata": {},
   "outputs": [
    {
     "name": "stdout",
     "output_type": "stream",
     "text": [
      "N is zero\n"
     ]
    }
   ],
   "source": [
    "    n = 0\n",
    "if n>0:\n",
    "      print(\"N is positive no\")\n",
    "elif n==0:\n",
    "      print(\"N is zero\")\n",
    "else:\n",
    "      print(\"N is negative no\")"
   ]
  },
  {
   "cell_type": "code",
   "execution_count": 155,
   "id": "2d4e9b9b",
   "metadata": {},
   "outputs": [
    {
     "name": "stdout",
     "output_type": "stream",
     "text": [
      " A is odd no\n"
     ]
    }
   ],
   "source": [
    "a = 15\n",
    "if a%2 == 0:\n",
    "     print(\"A is even no\")\n",
    "else:\n",
    "    print(\" A is odd no\")"
   ]
  },
  {
   "cell_type": "code",
   "execution_count": 1,
   "id": "699aa2db",
   "metadata": {},
   "outputs": [],
   "source": [
    "a = 15\n",
    "b = 21"
   ]
  },
  {
   "cell_type": "code",
   "execution_count": 6,
   "id": "c5f2b66c",
   "metadata": {},
   "outputs": [
    {
     "name": "stdout",
     "output_type": "stream",
     "text": [
      "A is less than B\n"
     ]
    }
   ],
   "source": [
    "a = 15\n",
    "b = 21\n",
    "if a<b:\n",
    "    print(\"A is less than B\")\n",
    "elif a == b:\n",
    "     print(\"A is equal to B\")\n",
    "else:\n",
    "    print(\"A is greater than B\")"
   ]
  },
  {
   "cell_type": "code",
   "execution_count": 10,
   "id": "aba258be",
   "metadata": {},
   "outputs": [
    {
     "name": "stdout",
     "output_type": "stream",
     "text": [
      "A is less than B\n"
     ]
    }
   ],
   "source": [
    "if a<=b:\n",
    "    if a<b:\n",
    "        print(\"A is less than B\")\n",
    "    else:\n",
    "        print(\"A is equal to B\")\n",
    "else:\n",
    "        print(\"A is greater than B\")\n",
    "        "
   ]
  },
  {
   "cell_type": "code",
   "execution_count": 1,
   "id": "b97f6a7c",
   "metadata": {},
   "outputs": [
    {
     "name": "stdout",
     "output_type": "stream",
     "text": [
      "A is less than B\n"
     ]
    }
   ],
   "source": [
    "a=24\n",
    "b=15\n",
    "if a<=b:\n",
    "      if a<b:  \n",
    "         print(\"A is less than B\")\n",
    "      else:\n",
    "        print(\"A is equal to B\")\n",
    "else:\n",
    "     print(\"A is less than B\")\n",
    "    "
   ]
  },
  {
   "cell_type": "code",
   "execution_count": 18,
   "id": "13f41739",
   "metadata": {},
   "outputs": [
    {
     "ename": "IndentationError",
     "evalue": "unindent does not match any outer indentation level (<tokenize>, line 4)",
     "output_type": "error",
     "traceback": [
      "\u001b[1;36m  File \u001b[1;32m\"<tokenize>\"\u001b[1;36m, line \u001b[1;32m4\u001b[0m\n\u001b[1;33m    if  X > 20:\u001b[0m\n\u001b[1;37m    ^\u001b[0m\n\u001b[1;31mIndentationError\u001b[0m\u001b[1;31m:\u001b[0m unindent does not match any outer indentation level\n"
     ]
    }
   ],
   "source": [
    "x = 25\n",
    "if x > 10:\n",
    "     print(\"x is greater than 10\")\n",
    "    if  X > 20:\n",
    "          print(\" x is greater than 20\")\n",
    "        if x > 30:\n",
    "            print(\"x is grater than 30\")\n",
    "        else:\n",
    "            print(\"x is grater than 20 but less than 30 \")\n",
    "    else:\n",
    "        print(\"x is grater than 10 but less than 20\")\n",
    "else:\n",
    "    print(\"X is less than 10\")"
   ]
  },
  {
   "cell_type": "code",
   "execution_count": 21,
   "id": "6b13217b",
   "metadata": {},
   "outputs": [
    {
     "name": "stdout",
     "output_type": "stream",
     "text": [
      "Ente your Marks :70\n",
      "B\n"
     ]
    }
   ],
   "source": [
    "marks = int(input(\"Ente your Marks :\"))\n",
    "if marks > 75:\n",
    "    print(\"A\")\n",
    "elif marks > 55 and marks <= 75:\n",
    "    print(\"B\")\n",
    "elif marks > 40 and marks <=55:\n",
    "    print(\"c\")\n",
    "else:\n",
    "    print(\"Fail\")\n",
    "    "
   ]
  },
  {
   "cell_type": "code",
   "execution_count": 28,
   "id": "f8cab35b",
   "metadata": {},
   "outputs": [
    {
     "name": "stdout",
     "output_type": "stream",
     "text": [
      "Ente your username:asdf\n",
      "Username is invalid\n"
     ]
    }
   ],
   "source": [
    "username = input(\"Ente your username:\")\n",
    "\n",
    "if username == \"Pass123\" or username == \"Pass123\":\n",
    "    print(\"Username is correct\")\n",
    "else:\n",
    "    print(\"Username is invalid\")"
   ]
  },
  {
   "cell_type": "code",
   "execution_count": null,
   "id": "76f261e8",
   "metadata": {},
   "outputs": [],
   "source": [
    "\n"
   ]
  }
 ],
 "metadata": {
  "kernelspec": {
   "display_name": "Python 3 (ipykernel)",
   "language": "python",
   "name": "python3"
  },
  "language_info": {
   "codemirror_mode": {
    "name": "ipython",
    "version": 3
   },
   "file_extension": ".py",
   "mimetype": "text/x-python",
   "name": "python",
   "nbconvert_exporter": "python",
   "pygments_lexer": "ipython3",
   "version": "3.9.13"
  }
 },
 "nbformat": 4,
 "nbformat_minor": 5
}
