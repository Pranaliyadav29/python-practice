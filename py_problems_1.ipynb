{
 "cells": [
  {
   "cell_type": "markdown",
   "id": "83bbb05c",
   "metadata": {},
   "source": [
    "# Given an integer x, return true if x is a palindrome, and false otherwise."
   ]
  },
  {
   "cell_type": "code",
   "execution_count": 33,
   "id": "3eface1e",
   "metadata": {},
   "outputs": [],
   "source": [
    "\n",
    "def is_palindrome(a):\n",
    "    b = str(a)\n",
    "    if str(a)[::-1]== str(a):\n",
    "        print(a,\"is a palindrome\")\n",
    "    else:\n",
    "        print(a,\"is not a palindrome\")\n",
    "        "
   ]
  },
  {
   "cell_type": "code",
   "execution_count": 34,
   "id": "e2a042a2",
   "metadata": {},
   "outputs": [
    {
     "name": "stdout",
     "output_type": "stream",
     "text": [
      "121 is a palindrome\n"
     ]
    }
   ],
   "source": [
    "is_palindrome(121)"
   ]
  },
  {
   "cell_type": "code",
   "execution_count": 35,
   "id": "c833fb76",
   "metadata": {},
   "outputs": [
    {
     "name": "stdout",
     "output_type": "stream",
     "text": [
      "123 is not a palindrome\n"
     ]
    }
   ],
   "source": [
    "is_palindrome(123)"
   ]
  },
  {
   "cell_type": "markdown",
   "id": "2e9c24d4",
   "metadata": {},
   "source": [
    "# Given a list of size N and an integer K, find the position at which K is present in the array using binary search"
   ]
  },
  {
   "cell_type": "code",
   "execution_count": 46,
   "id": "8afe0709",
   "metadata": {},
   "outputs": [],
   "source": [
    "l = [1,2,3,4,5] \n",
    "k = 6"
   ]
  },
  {
   "cell_type": "code",
   "execution_count": 51,
   "id": "3f095d36",
   "metadata": {},
   "outputs": [],
   "source": [
    "def binary_search(l,k):\n",
    "    for i in range(len(l)):\n",
    "        if l[i]==k:\n",
    "            print(\"index of\",k,\"in given list l is\",i)\n",
    "    else:\n",
    "        print(k,\"is not in given list\")"
   ]
  },
  {
   "cell_type": "code",
   "execution_count": 52,
   "id": "535638e8",
   "metadata": {},
   "outputs": [
    {
     "name": "stdout",
     "output_type": "stream",
     "text": [
      "6 is not in given list\n"
     ]
    }
   ],
   "source": [
    "binary_search(l,k)"
   ]
  },
  {
   "cell_type": "markdown",
   "id": "1c0b0921",
   "metadata": {},
   "source": [
    "# Given a number and its reverse. Find that number raised to the power of its own reverse"
   ]
  },
  {
   "cell_type": "code",
   "execution_count": 64,
   "id": "1c081e31",
   "metadata": {},
   "outputs": [],
   "source": [
    "def power_of_its_reverse(a):\n",
    "    print(a**int(str(a)[::-1]))"
   ]
  },
  {
   "cell_type": "code",
   "execution_count": 66,
   "id": "24f3703b",
   "metadata": {},
   "outputs": [
    {
     "name": "stdout",
     "output_type": "stream",
     "text": [
      "4\n"
     ]
    }
   ],
   "source": [
    "power_of_its_reverse(2)"
   ]
  }
 ],
 "metadata": {
  "kernelspec": {
   "display_name": "Python 3 (ipykernel)",
   "language": "python",
   "name": "python3"
  },
  "language_info": {
   "codemirror_mode": {
    "name": "ipython",
    "version": 3
   },
   "file_extension": ".py",
   "mimetype": "text/x-python",
   "name": "python",
   "nbconvert_exporter": "python",
   "pygments_lexer": "ipython3",
   "version": "3.9.13"
  }
 },
 "nbformat": 4,
 "nbformat_minor": 5
}
