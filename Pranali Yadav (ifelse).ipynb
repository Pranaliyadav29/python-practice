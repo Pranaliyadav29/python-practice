{
 "cells": [
  {
   "cell_type": "markdown",
   "id": "53c2ee3c",
   "metadata": {},
   "source": [
    "# If_else program by using function"
   ]
  },
  {
   "cell_type": "code",
   "execution_count": 9,
   "id": "ca0773e5",
   "metadata": {},
   "outputs": [
    {
     "ename": "NameError",
     "evalue": "name 'num' is not defined",
     "output_type": "error",
     "traceback": [
      "\u001b[1;31m---------------------------------------------------------------------------\u001b[0m",
      "\u001b[1;31mNameError\u001b[0m                                 Traceback (most recent call last)",
      "\u001b[1;32m~\\AppData\\Local\\Temp\\ipykernel_4872\\924299080.py\u001b[0m in \u001b[0;36m<module>\u001b[1;34m\u001b[0m\n\u001b[0;32m      1\u001b[0m \u001b[1;32mdef\u001b[0m \u001b[0mnum_positive_or_negative\u001b[0m\u001b[1;33m(\u001b[0m\u001b[0mnum\u001b[0m\u001b[1;33m)\u001b[0m\u001b[1;33m:\u001b[0m\u001b[1;33m\u001b[0m\u001b[1;33m\u001b[0m\u001b[0m\n\u001b[0;32m      2\u001b[0m   \u001b[1;34m\"This will check num is positive or negative\"\u001b[0m\u001b[1;33m\u001b[0m\u001b[1;33m\u001b[0m\u001b[0m\n\u001b[1;32m----> 3\u001b[1;33m \u001b[1;32mif\u001b[0m \u001b[0mnum\u001b[0m \u001b[1;33m>\u001b[0m\u001b[1;36m0\u001b[0m\u001b[1;33m:\u001b[0m\u001b[1;33m\u001b[0m\u001b[1;33m\u001b[0m\u001b[0m\n\u001b[0m\u001b[0;32m      4\u001b[0m         \u001b[0mprint\u001b[0m\u001b[1;33m(\u001b[0m\u001b[1;34m\"Num is positive no\"\u001b[0m\u001b[1;33m)\u001b[0m\u001b[1;33m\u001b[0m\u001b[1;33m\u001b[0m\u001b[0m\n\u001b[0;32m      5\u001b[0m \u001b[1;32melse\u001b[0m\u001b[1;33m:\u001b[0m\u001b[1;33m\u001b[0m\u001b[1;33m\u001b[0m\u001b[0m\n",
      "\u001b[1;31mNameError\u001b[0m: name 'num' is not defined"
     ]
    }
   ],
   "source": [
    "def num_positive_or_negative(num):\n",
    "  \"This will check num is positive or negative\"\n",
    "if num >0:\n",
    "        print(\"Num is positive no\")\n",
    "else:\n",
    "        print(\"Num is negative no\")"
   ]
  },
  {
   "cell_type": "code",
   "execution_count": 2,
   "id": "926a54f9",
   "metadata": {},
   "outputs": [
    {
     "name": "stdout",
     "output_type": "stream",
     "text": [
      "N is positive no\n"
     ]
    }
   ],
   "source": [
    "num_positive_or_negative(12)"
   ]
  },
  {
   "cell_type": "code",
   "execution_count": 3,
   "id": "fa3de9d1",
   "metadata": {},
   "outputs": [
    {
     "name": "stdout",
     "output_type": "stream",
     "text": [
      "N is negative no\n"
     ]
    }
   ],
   "source": [
    "num_positive_or_negative(-2)"
   ]
  },
  {
   "cell_type": "code",
   "execution_count": 6,
   "id": "3573eb29",
   "metadata": {},
   "outputs": [],
   "source": [
    "def check_num(num):\n",
    "    \"This will check num is positive,negative or zero\"\n",
    "    if num>0:\n",
    "        print(\"Num is positive no\")\n",
    "    elif num==0:\n",
    "        print(\"Num is zero\")\n",
    "    else:\n",
    "        print(\"Num is negative no\")"
   ]
  },
  {
   "cell_type": "code",
   "execution_count": 7,
   "id": "43d0ab69",
   "metadata": {},
   "outputs": [
    {
     "name": "stdout",
     "output_type": "stream",
     "text": [
      "Num is zero\n"
     ]
    }
   ],
   "source": [
    "check_num(0)"
   ]
  },
  {
   "cell_type": "code",
   "execution_count": 8,
   "id": "91ca7e4e",
   "metadata": {},
   "outputs": [
    {
     "name": "stdout",
     "output_type": "stream",
     "text": [
      "Num is negative no\n"
     ]
    }
   ],
   "source": [
    "check_num(-2)"
   ]
  },
  {
   "cell_type": "code",
   "execution_count": 29,
   "id": "600f3aef",
   "metadata": {},
   "outputs": [
    {
     "name": "stdout",
     "output_type": "stream",
     "text": [
      "Num is positive no\n"
     ]
    }
   ],
   "source": [
    "check_num(2)"
   ]
  },
  {
   "cell_type": "code",
   "execution_count": 17,
   "id": "acd1fa34",
   "metadata": {},
   "outputs": [],
   "source": [
    "def even_odd(num):\n",
    "     \n",
    "    if num %2 == 0:\n",
    "        print(\"A is even no\")\n",
    "    else:\n",
    "        print(\" A is odd no\")"
   ]
  },
  {
   "cell_type": "code",
   "execution_count": 16,
   "id": "b5564d97",
   "metadata": {},
   "outputs": [
    {
     "name": "stdout",
     "output_type": "stream",
     "text": [
      "A is even no\n"
     ]
    }
   ],
   "source": [
    "even_odd(20)"
   ]
  },
  {
   "cell_type": "code",
   "execution_count": 31,
   "id": "925689eb",
   "metadata": {},
   "outputs": [
    {
     "name": "stdout",
     "output_type": "stream",
     "text": [
      " A is odd no\n"
     ]
    }
   ],
   "source": [
    "even_odd(23)"
   ]
  },
  {
   "cell_type": "markdown",
   "id": "52054d85",
   "metadata": {},
   "source": [
    "check num is less,greater or equal"
   ]
  },
  {
   "cell_type": "code",
   "execution_count": 37,
   "id": "c20dcab0",
   "metadata": {},
   "outputs": [],
   "source": [
    "def Enter_num(a,b):\n",
    "    \"numbers is equal,less or greater\"\n",
    "    if a<b:\n",
    "        print(\"A is less than B\")\n",
    "    elif a == b:\n",
    "        print(\"A is equal to B\")\n",
    "    else:\n",
    "        print(\"A is greater than B\")"
   ]
  },
  {
   "cell_type": "code",
   "execution_count": 38,
   "id": "394c577b",
   "metadata": {},
   "outputs": [
    {
     "name": "stdout",
     "output_type": "stream",
     "text": [
      "A is less than B\n"
     ]
    }
   ],
   "source": [
    "Enter_num(1,2)"
   ]
  },
  {
   "cell_type": "code",
   "execution_count": 39,
   "id": "1a4216a6",
   "metadata": {},
   "outputs": [
    {
     "name": "stdout",
     "output_type": "stream",
     "text": [
      "A is greater than B\n"
     ]
    }
   ],
   "source": [
    "Enter_num(20,10)"
   ]
  },
  {
   "cell_type": "code",
   "execution_count": 40,
   "id": "ed6b9f75",
   "metadata": {},
   "outputs": [
    {
     "name": "stdout",
     "output_type": "stream",
     "text": [
      "A is equal to B\n"
     ]
    }
   ],
   "source": [
    "Enter_num(10,10)"
   ]
  },
  {
   "cell_type": "code",
   "execution_count": 43,
   "id": "36d9c02e",
   "metadata": {},
   "outputs": [],
   "source": [
    "def num(a,b):\n",
    "    if a<=b:\n",
    "        if a<b:\n",
    "            print(\"A is less than B\")\n",
    "        else:\n",
    "             print(\"A is equal to B\")\n",
    "    else:\n",
    "        print(\"A is greater than B\")"
   ]
  },
  {
   "cell_type": "code",
   "execution_count": 45,
   "id": "9476f59e",
   "metadata": {},
   "outputs": [
    {
     "name": "stdout",
     "output_type": "stream",
     "text": [
      "A is less than B\n"
     ]
    }
   ],
   "source": [
    "num(10,20)"
   ]
  },
  {
   "cell_type": "code",
   "execution_count": 44,
   "id": "8d4084c8",
   "metadata": {},
   "outputs": [
    {
     "name": "stdout",
     "output_type": "stream",
     "text": [
      "A is greater than B\n"
     ]
    }
   ],
   "source": [
    "num(12,11)"
   ]
  },
  {
   "cell_type": "code",
   "execution_count": 1,
   "id": "8106fe69",
   "metadata": {},
   "outputs": [
    {
     "name": "stdout",
     "output_type": "stream",
     "text": [
      "Ente your Marks :45\n",
      "c\n"
     ]
    }
   ],
   "source": [
    "marks = int(input(\"Ente your Marks :\"))\n",
    "if marks > 75:\n",
    "    print(\"A\")\n",
    "elif marks > 55 and marks <= 75:\n",
    "    print(\"B\")\n",
    "elif marks > 40 and marks <=55:\n",
    "    print(\"c\")\n",
    "else:\n",
    "    print(\"Fail\")\n",
    "    "
   ]
  },
  {
   "cell_type": "code",
   "execution_count": null,
   "id": "18c268bf",
   "metadata": {},
   "outputs": [],
   "source": [
    "\n",
    " \n",
    "print(marks = int(input(\"Ente your Marks :\")))\n",
    "if marks > 75:\n",
    "    print(\"A\")\n",
    "elif marks > 55 and marks <= 75:\n",
    "    print(\"B\")\n",
    "elif marks > 40 and marks <=55:\n",
    "    print(\"c\")\n",
    "else:\n",
    "    print(\"Fail\")\n",
    "    "
   ]
  },
  {
   "cell_type": "code",
   "execution_count": 29,
   "id": "a8ccbf73",
   "metadata": {},
   "outputs": [],
   "source": [
    "def check(num1,num2):\n",
    "    \n",
    "    num1=( int(input(\"First num:\")))\n",
    "    num2 = (int(input(\"Second num:\")))\n",
    "    if num1>num2:\n",
    "               print(\"First num is greater \")\n",
    "    else:\n",
    "                print(\"second nu  is greater\")"
   ]
  },
  {
   "cell_type": "code",
   "execution_count": 30,
   "id": "e9937240",
   "metadata": {},
   "outputs": [
    {
     "name": "stdout",
     "output_type": "stream",
     "text": [
      "First num:21\n",
      "Second num:11\n",
      "First num is greater \n"
     ]
    }
   ],
   "source": [
    "check(21,22)"
   ]
  },
  {
   "cell_type": "code",
   "execution_count": 48,
   "id": "9a224840",
   "metadata": {},
   "outputs": [],
   "source": [
    "def insurance(age):\n",
    "    \n",
    "    if age>=45:\n",
    "        insurance = 500\n",
    "    else:\n",
    "        insurance = 300\n",
    "    return insurance"
   ]
  },
  {
   "cell_type": "code",
   "execution_count": 49,
   "id": "36a57c3c",
   "metadata": {},
   "outputs": [
    {
     "data": {
      "text/plain": [
       "300"
      ]
     },
     "execution_count": 49,
     "metadata": {},
     "output_type": "execute_result"
    }
   ],
   "source": [
    "insurance (30)"
   ]
  },
  {
   "cell_type": "code",
   "execution_count": 52,
   "id": "0f35c8dd",
   "metadata": {},
   "outputs": [],
   "source": [
    "def grade(marks):\n",
    "    if marks>75:\n",
    "        print(\"grade = A\")\n",
    "    elif marks>55 and marks <=75:\n",
    "        print(\"Grade = B\")\n",
    "    elif marks>40 and marks<=55:\n",
    "        print(\" grade = c\")\n",
    "    else:\n",
    "        print(\"Fail\")\n",
    "              \n",
    "              "
   ]
  },
  {
   "cell_type": "code",
   "execution_count": 53,
   "id": "67b8c198",
   "metadata": {},
   "outputs": [
    {
     "name": "stdout",
     "output_type": "stream",
     "text": [
      " grade = c\n"
     ]
    }
   ],
   "source": [
    "grade(55)"
   ]
  },
  {
   "cell_type": "code",
   "execution_count": 70,
   "id": "1cf279ac",
   "metadata": {},
   "outputs": [
    {
     "name": "stdout",
     "output_type": "stream",
     "text": [
      "grade = A\n"
     ]
    }
   ],
   "source": [
    "grade(90)"
   ]
  },
  {
   "cell_type": "code",
   "execution_count": 16,
   "id": "3141ce36",
   "metadata": {},
   "outputs": [],
   "source": [
    "#s = input(\"would you like to shut down\")"
   ]
  },
  {
   "cell_type": "code",
   "execution_count": 17,
   "id": "ccdb16bc",
   "metadata": {},
   "outputs": [],
   "source": [
    "def shut_down(s):\n",
    "    if s.lower() == \"yes\":\n",
    "        print(\"shutting down\")\n",
    "    elif s.lower() == \"no\":\n",
    "        print(\"shutdown aborted\")\n",
    "    else:\n",
    "        print(\"sorry,I don't understand\")\n",
    "        "
   ]
  },
  {
   "cell_type": "code",
   "execution_count": 18,
   "id": "f6fc5acd",
   "metadata": {},
   "outputs": [
    {
     "name": "stdout",
     "output_type": "stream",
     "text": [
      "shutting down\n"
     ]
    }
   ],
   "source": [
    "shut_down(\"yes\")"
   ]
  },
  {
   "cell_type": "code",
   "execution_count": 15,
   "id": "b6e06e8f",
   "metadata": {},
   "outputs": [
    {
     "name": "stdout",
     "output_type": "stream",
     "text": [
      "Do U Want To Shut Downyes\n",
      "shutting down\n"
     ]
    }
   ],
   "source": [
    "def shut_down(phrase):\n",
    "    word = phrase \n",
    "    return word\n",
    "take_action = input(shut_down(\"do u want to shut down\".title()))\n",
    "if take_action.lower() == \"yes\":\n",
    "      print(\"shutting down\")\n",
    "elif take_action.lower() == \"no\":\n",
    "        print(\"shutdown aborted!\")\n",
    "else:\n",
    "        print(\"sorry,I don't understand\")"
   ]
  },
  {
   "cell_type": "code",
   "execution_count": null,
   "id": "6ac3b701",
   "metadata": {},
   "outputs": [],
   "source": []
  }
 ],
 "metadata": {
  "kernelspec": {
   "display_name": "Python 3 (ipykernel)",
   "language": "python",
   "name": "python3"
  },
  "language_info": {
   "codemirror_mode": {
    "name": "ipython",
    "version": 3
   },
   "file_extension": ".py",
   "mimetype": "text/x-python",
   "name": "python",
   "nbconvert_exporter": "python",
   "pygments_lexer": "ipython3",
   "version": "3.9.13"
  }
 },
 "nbformat": 4,
 "nbformat_minor": 5
}
